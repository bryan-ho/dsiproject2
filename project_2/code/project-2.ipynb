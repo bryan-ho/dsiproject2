{
 "cells": [
  {
   "cell_type": "markdown",
   "metadata": {},
   "source": [
    "# Project 2 - Ames Housing Data and Kaggle Challenge\n",
    "\n",
    "_By: Bryan Ho (DSI 14)_\n",
    "\n",
    "---\n"
   ]
  },
  {
   "cell_type": "markdown",
   "metadata": {},
   "source": [
    "## Problem Statement"
   ]
  },
  {
   "cell_type": "markdown",
   "metadata": {},
   "source": [
    "House prices are always a thing of speculation, with many factors affecting it's value. Citizens struggle to find a house that fulfils their needs and wants which is within their budget. We aim to assess what factors greatly affect sale price of a house so that we can build a model which will in turn predict the potential prices (citizen's budget) for future unsold houses (citizen's needs / wants)."
   ]
  },
  {
   "cell_type": "markdown",
   "metadata": {},
   "source": [
    "## Executive Summary\n",
    "\n",
    "### Contents:\n",
    "- [Data Import](#Data-Import)\n",
    "- [Cleaning Null Values](#Cleaning-Null-Values)\n",
    "- [Datatypes](#Datatypes)\n",
    "- [Exploratory Data Analysis](#Exploratory-Data-Analysis)\n",
    "- [Train/Test Split and Model Validation](#Train/Test-Split-and-Model-Validation)\n",
    "- [Submission](#Submission)\n",
    "- [Conclusion](#Conclusion)"
   ]
  },
  {
   "cell_type": "markdown",
   "metadata": {},
   "source": [
    "## Data Import\n",
    "---\n",
    "\n",
    "We'll be importing following libraries for the project:\n",
    "\n",
    "1. `pandas`\n",
    "2. `numpy`\n",
    "3. `matplotlib.pyplot`\n",
    "4. `seaborn`\n",
    "5. `metrics` from `sklearn`\n",
    "4. `train_test_split` and `cross_val_score` from `sklearn`'s `model_selection` module\n",
    "5. `LinearRegression`, `LassoCV` and `RidgeCV` from `sklearn`'s `linear_model` module\n",
    "6. `StandardScaler` from `sklearn`'s `preprocessing` module"
   ]
  },
  {
   "cell_type": "code",
   "execution_count": 1,
   "metadata": {},
   "outputs": [],
   "source": [
    "import pandas as pd\n",
    "import numpy as np\n",
    "import matplotlib.pyplot as plt\n",
    "import seaborn as sns\n",
    "from sklearn import metrics\n",
    "from sklearn.model_selection import train_test_split, cross_val_score\n",
    "from sklearn.linear_model import LinearRegression, LassoCV, RidgeCV\n",
    "from sklearn.preprocessing import StandardScaler\n"
   ]
  },
  {
   "cell_type": "code",
   "execution_count": 2,
   "metadata": {},
   "outputs": [],
   "source": [
    "train = pd.read_csv('../datasets/train.csv')"
   ]
  },
  {
   "cell_type": "code",
   "execution_count": 3,
   "metadata": {},
   "outputs": [],
   "source": [
    "test = pd.read_csv('../datasets/test.csv')"
   ]
  },
  {
   "cell_type": "code",
   "execution_count": 4,
   "metadata": {
    "scrolled": true
   },
   "outputs": [
    {
     "data": {
      "text/html": [
       "<div>\n",
       "<style scoped>\n",
       "    .dataframe tbody tr th:only-of-type {\n",
       "        vertical-align: middle;\n",
       "    }\n",
       "\n",
       "    .dataframe tbody tr th {\n",
       "        vertical-align: top;\n",
       "    }\n",
       "\n",
       "    .dataframe thead th {\n",
       "        text-align: right;\n",
       "    }\n",
       "</style>\n",
       "<table border=\"1\" class=\"dataframe\">\n",
       "  <thead>\n",
       "    <tr style=\"text-align: right;\">\n",
       "      <th></th>\n",
       "      <th>Id</th>\n",
       "      <th>PID</th>\n",
       "      <th>MS SubClass</th>\n",
       "      <th>MS Zoning</th>\n",
       "      <th>Lot Frontage</th>\n",
       "      <th>Lot Area</th>\n",
       "      <th>Street</th>\n",
       "      <th>Alley</th>\n",
       "      <th>Lot Shape</th>\n",
       "      <th>Land Contour</th>\n",
       "      <th>...</th>\n",
       "      <th>Screen Porch</th>\n",
       "      <th>Pool Area</th>\n",
       "      <th>Pool QC</th>\n",
       "      <th>Fence</th>\n",
       "      <th>Misc Feature</th>\n",
       "      <th>Misc Val</th>\n",
       "      <th>Mo Sold</th>\n",
       "      <th>Yr Sold</th>\n",
       "      <th>Sale Type</th>\n",
       "      <th>SalePrice</th>\n",
       "    </tr>\n",
       "  </thead>\n",
       "  <tbody>\n",
       "    <tr>\n",
       "      <td>0</td>\n",
       "      <td>109</td>\n",
       "      <td>533352170</td>\n",
       "      <td>60</td>\n",
       "      <td>RL</td>\n",
       "      <td>NaN</td>\n",
       "      <td>13517</td>\n",
       "      <td>Pave</td>\n",
       "      <td>NaN</td>\n",
       "      <td>IR1</td>\n",
       "      <td>Lvl</td>\n",
       "      <td>...</td>\n",
       "      <td>0</td>\n",
       "      <td>0</td>\n",
       "      <td>NaN</td>\n",
       "      <td>NaN</td>\n",
       "      <td>NaN</td>\n",
       "      <td>0</td>\n",
       "      <td>3</td>\n",
       "      <td>2010</td>\n",
       "      <td>WD</td>\n",
       "      <td>130500</td>\n",
       "    </tr>\n",
       "    <tr>\n",
       "      <td>1</td>\n",
       "      <td>544</td>\n",
       "      <td>531379050</td>\n",
       "      <td>60</td>\n",
       "      <td>RL</td>\n",
       "      <td>43.0</td>\n",
       "      <td>11492</td>\n",
       "      <td>Pave</td>\n",
       "      <td>NaN</td>\n",
       "      <td>IR1</td>\n",
       "      <td>Lvl</td>\n",
       "      <td>...</td>\n",
       "      <td>0</td>\n",
       "      <td>0</td>\n",
       "      <td>NaN</td>\n",
       "      <td>NaN</td>\n",
       "      <td>NaN</td>\n",
       "      <td>0</td>\n",
       "      <td>4</td>\n",
       "      <td>2009</td>\n",
       "      <td>WD</td>\n",
       "      <td>220000</td>\n",
       "    </tr>\n",
       "    <tr>\n",
       "      <td>2</td>\n",
       "      <td>153</td>\n",
       "      <td>535304180</td>\n",
       "      <td>20</td>\n",
       "      <td>RL</td>\n",
       "      <td>68.0</td>\n",
       "      <td>7922</td>\n",
       "      <td>Pave</td>\n",
       "      <td>NaN</td>\n",
       "      <td>Reg</td>\n",
       "      <td>Lvl</td>\n",
       "      <td>...</td>\n",
       "      <td>0</td>\n",
       "      <td>0</td>\n",
       "      <td>NaN</td>\n",
       "      <td>NaN</td>\n",
       "      <td>NaN</td>\n",
       "      <td>0</td>\n",
       "      <td>1</td>\n",
       "      <td>2010</td>\n",
       "      <td>WD</td>\n",
       "      <td>109000</td>\n",
       "    </tr>\n",
       "    <tr>\n",
       "      <td>3</td>\n",
       "      <td>318</td>\n",
       "      <td>916386060</td>\n",
       "      <td>60</td>\n",
       "      <td>RL</td>\n",
       "      <td>73.0</td>\n",
       "      <td>9802</td>\n",
       "      <td>Pave</td>\n",
       "      <td>NaN</td>\n",
       "      <td>Reg</td>\n",
       "      <td>Lvl</td>\n",
       "      <td>...</td>\n",
       "      <td>0</td>\n",
       "      <td>0</td>\n",
       "      <td>NaN</td>\n",
       "      <td>NaN</td>\n",
       "      <td>NaN</td>\n",
       "      <td>0</td>\n",
       "      <td>4</td>\n",
       "      <td>2010</td>\n",
       "      <td>WD</td>\n",
       "      <td>174000</td>\n",
       "    </tr>\n",
       "    <tr>\n",
       "      <td>4</td>\n",
       "      <td>255</td>\n",
       "      <td>906425045</td>\n",
       "      <td>50</td>\n",
       "      <td>RL</td>\n",
       "      <td>82.0</td>\n",
       "      <td>14235</td>\n",
       "      <td>Pave</td>\n",
       "      <td>NaN</td>\n",
       "      <td>IR1</td>\n",
       "      <td>Lvl</td>\n",
       "      <td>...</td>\n",
       "      <td>0</td>\n",
       "      <td>0</td>\n",
       "      <td>NaN</td>\n",
       "      <td>NaN</td>\n",
       "      <td>NaN</td>\n",
       "      <td>0</td>\n",
       "      <td>3</td>\n",
       "      <td>2010</td>\n",
       "      <td>WD</td>\n",
       "      <td>138500</td>\n",
       "    </tr>\n",
       "  </tbody>\n",
       "</table>\n",
       "<p>5 rows × 81 columns</p>\n",
       "</div>"
      ],
      "text/plain": [
       "    Id        PID  MS SubClass MS Zoning  Lot Frontage  Lot Area Street Alley  \\\n",
       "0  109  533352170           60        RL           NaN     13517   Pave   NaN   \n",
       "1  544  531379050           60        RL          43.0     11492   Pave   NaN   \n",
       "2  153  535304180           20        RL          68.0      7922   Pave   NaN   \n",
       "3  318  916386060           60        RL          73.0      9802   Pave   NaN   \n",
       "4  255  906425045           50        RL          82.0     14235   Pave   NaN   \n",
       "\n",
       "  Lot Shape Land Contour  ... Screen Porch Pool Area Pool QC Fence  \\\n",
       "0       IR1          Lvl  ...            0         0     NaN   NaN   \n",
       "1       IR1          Lvl  ...            0         0     NaN   NaN   \n",
       "2       Reg          Lvl  ...            0         0     NaN   NaN   \n",
       "3       Reg          Lvl  ...            0         0     NaN   NaN   \n",
       "4       IR1          Lvl  ...            0         0     NaN   NaN   \n",
       "\n",
       "  Misc Feature Misc Val Mo Sold Yr Sold  Sale Type  SalePrice  \n",
       "0          NaN        0       3    2010        WD      130500  \n",
       "1          NaN        0       4    2009        WD      220000  \n",
       "2          NaN        0       1    2010        WD      109000  \n",
       "3          NaN        0       4    2010        WD      174000  \n",
       "4          NaN        0       3    2010        WD      138500  \n",
       "\n",
       "[5 rows x 81 columns]"
      ]
     },
     "execution_count": 4,
     "metadata": {},
     "output_type": "execute_result"
    }
   ],
   "source": [
    "train.head()"
   ]
  },
  {
   "cell_type": "code",
   "execution_count": 5,
   "metadata": {},
   "outputs": [
    {
     "data": {
      "text/html": [
       "<div>\n",
       "<style scoped>\n",
       "    .dataframe tbody tr th:only-of-type {\n",
       "        vertical-align: middle;\n",
       "    }\n",
       "\n",
       "    .dataframe tbody tr th {\n",
       "        vertical-align: top;\n",
       "    }\n",
       "\n",
       "    .dataframe thead th {\n",
       "        text-align: right;\n",
       "    }\n",
       "</style>\n",
       "<table border=\"1\" class=\"dataframe\">\n",
       "  <thead>\n",
       "    <tr style=\"text-align: right;\">\n",
       "      <th></th>\n",
       "      <th>Id</th>\n",
       "      <th>PID</th>\n",
       "      <th>MS SubClass</th>\n",
       "      <th>MS Zoning</th>\n",
       "      <th>Lot Frontage</th>\n",
       "      <th>Lot Area</th>\n",
       "      <th>Street</th>\n",
       "      <th>Alley</th>\n",
       "      <th>Lot Shape</th>\n",
       "      <th>Land Contour</th>\n",
       "      <th>...</th>\n",
       "      <th>3Ssn Porch</th>\n",
       "      <th>Screen Porch</th>\n",
       "      <th>Pool Area</th>\n",
       "      <th>Pool QC</th>\n",
       "      <th>Fence</th>\n",
       "      <th>Misc Feature</th>\n",
       "      <th>Misc Val</th>\n",
       "      <th>Mo Sold</th>\n",
       "      <th>Yr Sold</th>\n",
       "      <th>Sale Type</th>\n",
       "    </tr>\n",
       "  </thead>\n",
       "  <tbody>\n",
       "    <tr>\n",
       "      <td>0</td>\n",
       "      <td>2658</td>\n",
       "      <td>902301120</td>\n",
       "      <td>190</td>\n",
       "      <td>RM</td>\n",
       "      <td>69.0</td>\n",
       "      <td>9142</td>\n",
       "      <td>Pave</td>\n",
       "      <td>Grvl</td>\n",
       "      <td>Reg</td>\n",
       "      <td>Lvl</td>\n",
       "      <td>...</td>\n",
       "      <td>0</td>\n",
       "      <td>0</td>\n",
       "      <td>0</td>\n",
       "      <td>NaN</td>\n",
       "      <td>NaN</td>\n",
       "      <td>NaN</td>\n",
       "      <td>0</td>\n",
       "      <td>4</td>\n",
       "      <td>2006</td>\n",
       "      <td>WD</td>\n",
       "    </tr>\n",
       "    <tr>\n",
       "      <td>1</td>\n",
       "      <td>2718</td>\n",
       "      <td>905108090</td>\n",
       "      <td>90</td>\n",
       "      <td>RL</td>\n",
       "      <td>NaN</td>\n",
       "      <td>9662</td>\n",
       "      <td>Pave</td>\n",
       "      <td>NaN</td>\n",
       "      <td>IR1</td>\n",
       "      <td>Lvl</td>\n",
       "      <td>...</td>\n",
       "      <td>0</td>\n",
       "      <td>0</td>\n",
       "      <td>0</td>\n",
       "      <td>NaN</td>\n",
       "      <td>NaN</td>\n",
       "      <td>NaN</td>\n",
       "      <td>0</td>\n",
       "      <td>8</td>\n",
       "      <td>2006</td>\n",
       "      <td>WD</td>\n",
       "    </tr>\n",
       "    <tr>\n",
       "      <td>2</td>\n",
       "      <td>2414</td>\n",
       "      <td>528218130</td>\n",
       "      <td>60</td>\n",
       "      <td>RL</td>\n",
       "      <td>58.0</td>\n",
       "      <td>17104</td>\n",
       "      <td>Pave</td>\n",
       "      <td>NaN</td>\n",
       "      <td>IR1</td>\n",
       "      <td>Lvl</td>\n",
       "      <td>...</td>\n",
       "      <td>0</td>\n",
       "      <td>0</td>\n",
       "      <td>0</td>\n",
       "      <td>NaN</td>\n",
       "      <td>NaN</td>\n",
       "      <td>NaN</td>\n",
       "      <td>0</td>\n",
       "      <td>9</td>\n",
       "      <td>2006</td>\n",
       "      <td>New</td>\n",
       "    </tr>\n",
       "    <tr>\n",
       "      <td>3</td>\n",
       "      <td>1989</td>\n",
       "      <td>902207150</td>\n",
       "      <td>30</td>\n",
       "      <td>RM</td>\n",
       "      <td>60.0</td>\n",
       "      <td>8520</td>\n",
       "      <td>Pave</td>\n",
       "      <td>NaN</td>\n",
       "      <td>Reg</td>\n",
       "      <td>Lvl</td>\n",
       "      <td>...</td>\n",
       "      <td>0</td>\n",
       "      <td>0</td>\n",
       "      <td>0</td>\n",
       "      <td>NaN</td>\n",
       "      <td>NaN</td>\n",
       "      <td>NaN</td>\n",
       "      <td>0</td>\n",
       "      <td>7</td>\n",
       "      <td>2007</td>\n",
       "      <td>WD</td>\n",
       "    </tr>\n",
       "    <tr>\n",
       "      <td>4</td>\n",
       "      <td>625</td>\n",
       "      <td>535105100</td>\n",
       "      <td>20</td>\n",
       "      <td>RL</td>\n",
       "      <td>NaN</td>\n",
       "      <td>9500</td>\n",
       "      <td>Pave</td>\n",
       "      <td>NaN</td>\n",
       "      <td>IR1</td>\n",
       "      <td>Lvl</td>\n",
       "      <td>...</td>\n",
       "      <td>0</td>\n",
       "      <td>185</td>\n",
       "      <td>0</td>\n",
       "      <td>NaN</td>\n",
       "      <td>NaN</td>\n",
       "      <td>NaN</td>\n",
       "      <td>0</td>\n",
       "      <td>7</td>\n",
       "      <td>2009</td>\n",
       "      <td>WD</td>\n",
       "    </tr>\n",
       "  </tbody>\n",
       "</table>\n",
       "<p>5 rows × 80 columns</p>\n",
       "</div>"
      ],
      "text/plain": [
       "     Id        PID  MS SubClass MS Zoning  Lot Frontage  Lot Area Street  \\\n",
       "0  2658  902301120          190        RM          69.0      9142   Pave   \n",
       "1  2718  905108090           90        RL           NaN      9662   Pave   \n",
       "2  2414  528218130           60        RL          58.0     17104   Pave   \n",
       "3  1989  902207150           30        RM          60.0      8520   Pave   \n",
       "4   625  535105100           20        RL           NaN      9500   Pave   \n",
       "\n",
       "  Alley Lot Shape Land Contour  ... 3Ssn Porch Screen Porch Pool Area Pool QC  \\\n",
       "0  Grvl       Reg          Lvl  ...          0            0         0     NaN   \n",
       "1   NaN       IR1          Lvl  ...          0            0         0     NaN   \n",
       "2   NaN       IR1          Lvl  ...          0            0         0     NaN   \n",
       "3   NaN       Reg          Lvl  ...          0            0         0     NaN   \n",
       "4   NaN       IR1          Lvl  ...          0          185         0     NaN   \n",
       "\n",
       "  Fence Misc Feature Misc Val Mo Sold  Yr Sold  Sale Type  \n",
       "0   NaN          NaN        0       4     2006        WD   \n",
       "1   NaN          NaN        0       8     2006        WD   \n",
       "2   NaN          NaN        0       9     2006        New  \n",
       "3   NaN          NaN        0       7     2007        WD   \n",
       "4   NaN          NaN        0       7     2009        WD   \n",
       "\n",
       "[5 rows x 80 columns]"
      ]
     },
     "execution_count": 5,
     "metadata": {},
     "output_type": "execute_result"
    }
   ],
   "source": [
    "test.head()"
   ]
  },
  {
   "cell_type": "code",
   "execution_count": 6,
   "metadata": {},
   "outputs": [
    {
     "data": {
      "text/plain": [
       "(2051, 81)"
      ]
     },
     "execution_count": 6,
     "metadata": {},
     "output_type": "execute_result"
    }
   ],
   "source": [
    "train.shape"
   ]
  },
  {
   "cell_type": "code",
   "execution_count": 7,
   "metadata": {
    "scrolled": false
   },
   "outputs": [
    {
     "data": {
      "text/plain": [
       "Id                int64\n",
       "PID               int64\n",
       "MS SubClass       int64\n",
       "MS Zoning        object\n",
       "Lot Frontage    float64\n",
       "                 ...   \n",
       "Misc Val          int64\n",
       "Mo Sold           int64\n",
       "Yr Sold           int64\n",
       "Sale Type        object\n",
       "SalePrice         int64\n",
       "Length: 81, dtype: object"
      ]
     },
     "execution_count": 7,
     "metadata": {},
     "output_type": "execute_result"
    }
   ],
   "source": [
    "train.dtypes"
   ]
  },
  {
   "cell_type": "code",
   "execution_count": 8,
   "metadata": {},
   "outputs": [
    {
     "data": {
      "text/plain": [
       "Pool QC         2042\n",
       "Misc Feature    1986\n",
       "Alley           1911\n",
       "Fence           1651\n",
       "Fireplace Qu    1000\n",
       "                ... \n",
       "Electrical         0\n",
       "Central Air        0\n",
       "Heating QC         0\n",
       "Sale Type          0\n",
       "Id                 0\n",
       "Length: 81, dtype: int64"
      ]
     },
     "execution_count": 8,
     "metadata": {},
     "output_type": "execute_result"
    }
   ],
   "source": [
    "train.isnull().sum().sort_values(ascending=False)"
   ]
  },
  {
   "cell_type": "markdown",
   "metadata": {},
   "source": [
    "---"
   ]
  },
  {
   "cell_type": "markdown",
   "metadata": {},
   "source": [
    "## Cleaning Null Values"
   ]
  },
  {
   "cell_type": "markdown",
   "metadata": {},
   "source": [
    "As the dataset is large with many columns, we will be doing our data cleaning based on numerical and non-numerical data"
   ]
  },
  {
   "cell_type": "markdown",
   "metadata": {},
   "source": [
    "### Numerical"
   ]
  },
  {
   "cell_type": "code",
   "execution_count": 9,
   "metadata": {},
   "outputs": [],
   "source": [
    "train_num = train[[col for col in train._get_numeric_data().columns]]"
   ]
  },
  {
   "cell_type": "code",
   "execution_count": 10,
   "metadata": {
    "scrolled": true
   },
   "outputs": [
    {
     "data": {
      "text/plain": [
       "Lot Frontage       330\n",
       "Garage Yr Blt      114\n",
       "Mas Vnr Area        22\n",
       "Bsmt Half Bath       2\n",
       "Bsmt Full Bath       2\n",
       "Garage Cars          1\n",
       "BsmtFin SF 1         1\n",
       "BsmtFin SF 2         1\n",
       "Bsmt Unf SF          1\n",
       "Total Bsmt SF        1\n",
       "Garage Area          1\n",
       "Lot Area             0\n",
       "Overall Qual         0\n",
       "Overall Cond         0\n",
       "Year Built           0\n",
       "Year Remod/Add       0\n",
       "Low Qual Fin SF      0\n",
       "MS SubClass          0\n",
       "PID                  0\n",
       "1st Flr SF           0\n",
       "2nd Flr SF           0\n",
       "SalePrice            0\n",
       "Gr Liv Area          0\n",
       "Open Porch SF        0\n",
       "Mo Sold              0\n",
       "Misc Val             0\n",
       "Pool Area            0\n",
       "Screen Porch         0\n",
       "3Ssn Porch           0\n",
       "Enclosed Porch       0\n",
       "Wood Deck SF         0\n",
       "Yr Sold              0\n",
       "Fireplaces           0\n",
       "TotRms AbvGrd        0\n",
       "Kitchen AbvGr        0\n",
       "Bedroom AbvGr        0\n",
       "Half Bath            0\n",
       "Full Bath            0\n",
       "Id                   0\n",
       "dtype: int64"
      ]
     },
     "execution_count": 10,
     "metadata": {},
     "output_type": "execute_result"
    }
   ],
   "source": [
    "train_num.isnull().sum().sort_values(ascending=False)"
   ]
  },
  {
   "cell_type": "markdown",
   "metadata": {},
   "source": [
    "#### Based on the numerical null values above, we have decided the following approaches to deal with the null values\n",
    "\n",
    "#### Mean\n",
    "As the missing data for the following 3 are linked to a numerical value such as area, distance and age, we will use the mean of each respective column to append the missing data\n",
    "1. **Lot Frontage**: Linear feet of street connected to property\n",
    "2. **Garage Yr Blt**: Year Garage was built\n",
    "3. **Mas Vnr Area**: Masonry veneer area in square feet\n",
    "\n",
    "#### Existence\n",
    "The data below has a relation to other columns, Basement and Garage size etc. can be related to the non-numerical categorical data of the existence of a basement/garage in the first place. We will compare the null data to the respective columns and fill the data with 0 if there is no basement/garage.\n",
    "\n",
    "####  Related Column: Bsmt Cond: _Condition of Basement_\n",
    "4. **Bsmt Half Bath**: Basement half bathrooms\n",
    "5. **Bsmt Full Bath**: Basement full bathrooms\n",
    "6. **BsmtFin SF 1**: Type 1 finished square feet\n",
    "7. **BsmtFin SF 2**: Type 2 finished square feet\n",
    "8. **Bsmt Unf SF**: Unfinished square feet of basement area\n",
    "9. **Total Bsmt SF**: Total square feet of basement area\n",
    "\n",
    "#### Related Column: Garage Type: _Garage location_\n",
    "10. **Garage Cars**: Size of garage in car capacity\n",
    "11. **Garage Area**: Size of garage in square feet"
   ]
  },
  {
   "cell_type": "markdown",
   "metadata": {},
   "source": [
    "#### Basement and Garage (Existence)"
   ]
  },
  {
   "cell_type": "code",
   "execution_count": 11,
   "metadata": {},
   "outputs": [],
   "source": [
    "# Compiling basement columns with null values\n",
    "basement_columns = ['Bsmt Cond', 'Bsmt Half Bath', 'Bsmt Full Bath','BsmtFin SF 1','BsmtFin SF 2','Bsmt Unf SF','Total Bsmt SF']"
   ]
  },
  {
   "cell_type": "code",
   "execution_count": 12,
   "metadata": {
    "scrolled": true
   },
   "outputs": [
    {
     "name": "stderr",
     "output_type": "stream",
     "text": [
      "C:\\Users\\admin\\Anaconda3\\lib\\site-packages\\pandas\\core\\indexing.py:1418: FutureWarning: \n",
      "Passing list-likes to .loc or [] with any missing label will raise\n",
      "KeyError in the future, you can use .reindex() as an alternative.\n",
      "\n",
      "See the documentation here:\n",
      "https://pandas.pydata.org/pandas-docs/stable/user_guide/indexing.html#deprecate-loc-reindex-listlike\n",
      "  return self._getitem_tuple(key)\n"
     ]
    },
    {
     "data": {
      "text/html": [
       "<div>\n",
       "<style scoped>\n",
       "    .dataframe tbody tr th:only-of-type {\n",
       "        vertical-align: middle;\n",
       "    }\n",
       "\n",
       "    .dataframe tbody tr th {\n",
       "        vertical-align: top;\n",
       "    }\n",
       "\n",
       "    .dataframe thead th {\n",
       "        text-align: right;\n",
       "    }\n",
       "</style>\n",
       "<table border=\"1\" class=\"dataframe\">\n",
       "  <thead>\n",
       "    <tr style=\"text-align: right;\">\n",
       "      <th></th>\n",
       "      <th>Bsmt Cond</th>\n",
       "      <th>Bsmt Half Bath</th>\n",
       "      <th>Bsmt Full Bath</th>\n",
       "      <th>BsmtFin SF 1</th>\n",
       "      <th>BsmtFin SF 2</th>\n",
       "      <th>Bsmt Unf SF</th>\n",
       "      <th>Total Bsmt SF</th>\n",
       "    </tr>\n",
       "  </thead>\n",
       "  <tbody>\n",
       "    <tr>\n",
       "      <td>616</td>\n",
       "      <td>NaN</td>\n",
       "      <td>NaN</td>\n",
       "      <td>NaN</td>\n",
       "      <td>0.0</td>\n",
       "      <td>0.0</td>\n",
       "      <td>0.0</td>\n",
       "      <td>0.0</td>\n",
       "    </tr>\n",
       "    <tr>\n",
       "      <td>1327</td>\n",
       "      <td>NaN</td>\n",
       "      <td>NaN</td>\n",
       "      <td>NaN</td>\n",
       "      <td>NaN</td>\n",
       "      <td>NaN</td>\n",
       "      <td>NaN</td>\n",
       "      <td>NaN</td>\n",
       "    </tr>\n",
       "  </tbody>\n",
       "</table>\n",
       "</div>"
      ],
      "text/plain": [
       "      Bsmt Cond  Bsmt Half Bath  Bsmt Full Bath  BsmtFin SF 1  BsmtFin SF 2  \\\n",
       "616         NaN             NaN             NaN           0.0           0.0   \n",
       "1327        NaN             NaN             NaN           NaN           NaN   \n",
       "\n",
       "      Bsmt Unf SF  Total Bsmt SF  \n",
       "616           0.0            0.0  \n",
       "1327          NaN            NaN  "
      ]
     },
     "execution_count": 12,
     "metadata": {},
     "output_type": "execute_result"
    }
   ],
   "source": [
    "# locate all basement null values to compare against Bsmt Cond to see if Basement Exists\n",
    "train_num.loc[(train_num['Bsmt Half Bath'].isnull() | train_num['Bsmt Full Bath'].isnull() | train_num['BsmtFin SF 1'].isnull() | train_num['BsmtFin SF 2'].isnull() | train_num['Bsmt Unf SF'].isnull() | train_num['Total Bsmt SF'].isnull()), basement_columns]"
   ]
  },
  {
   "cell_type": "code",
   "execution_count": 13,
   "metadata": {},
   "outputs": [
    {
     "data": {
      "text/plain": [
       "0    0.0\n",
       "1    0.0\n",
       "2    0.0\n",
       "3    0.0\n",
       "4    0.0\n",
       "Name: Bsmt Half Bath, dtype: float64"
      ]
     },
     "execution_count": 13,
     "metadata": {},
     "output_type": "execute_result"
    }
   ],
   "source": [
    "# Since the null values have no basements, we will follow according to other data and replace the null value as a float with value 0.0\n",
    "train_num['Bsmt Half Bath'].head()"
   ]
  },
  {
   "cell_type": "code",
   "execution_count": 14,
   "metadata": {},
   "outputs": [],
   "source": [
    "# Steps similar to Basement\n",
    "garage_columns = ['Garage Type', 'Garage Cars', 'Garage Area']"
   ]
  },
  {
   "cell_type": "code",
   "execution_count": 15,
   "metadata": {},
   "outputs": [
    {
     "data": {
      "text/html": [
       "<div>\n",
       "<style scoped>\n",
       "    .dataframe tbody tr th:only-of-type {\n",
       "        vertical-align: middle;\n",
       "    }\n",
       "\n",
       "    .dataframe tbody tr th {\n",
       "        vertical-align: top;\n",
       "    }\n",
       "\n",
       "    .dataframe thead th {\n",
       "        text-align: right;\n",
       "    }\n",
       "</style>\n",
       "<table border=\"1\" class=\"dataframe\">\n",
       "  <thead>\n",
       "    <tr style=\"text-align: right;\">\n",
       "      <th></th>\n",
       "      <th>Garage Type</th>\n",
       "      <th>Garage Cars</th>\n",
       "      <th>Garage Area</th>\n",
       "    </tr>\n",
       "  </thead>\n",
       "  <tbody>\n",
       "    <tr>\n",
       "      <td>1712</td>\n",
       "      <td>NaN</td>\n",
       "      <td>NaN</td>\n",
       "      <td>NaN</td>\n",
       "    </tr>\n",
       "  </tbody>\n",
       "</table>\n",
       "</div>"
      ],
      "text/plain": [
       "      Garage Type  Garage Cars  Garage Area\n",
       "1712          NaN          NaN          NaN"
      ]
     },
     "execution_count": 15,
     "metadata": {},
     "output_type": "execute_result"
    }
   ],
   "source": [
    "train_num.loc[(train_num['Garage Cars'].isnull() | train_num['Garage Area'].isnull()), garage_columns]"
   ]
  },
  {
   "cell_type": "code",
   "execution_count": 16,
   "metadata": {},
   "outputs": [
    {
     "data": {
      "text/plain": [
       "0    2.0\n",
       "1    2.0\n",
       "2    1.0\n",
       "3    2.0\n",
       "4    2.0\n",
       "Name: Garage Cars, dtype: float64"
      ]
     },
     "execution_count": 16,
     "metadata": {},
     "output_type": "execute_result"
    }
   ],
   "source": [
    "train_num['Garage Cars'].head()"
   ]
  },
  {
   "cell_type": "markdown",
   "metadata": {},
   "source": [
    "#### Adjustments passed"
   ]
  },
  {
   "cell_type": "code",
   "execution_count": 17,
   "metadata": {},
   "outputs": [],
   "source": [
    "# Mean\n",
    "train['Lot Frontage'].fillna(train['Lot Frontage'].mean(), inplace = True)\n",
    "train['Garage Yr Blt'].fillna(train['Garage Yr Blt'].mean(), inplace = True)\n",
    "train['Mas Vnr Area'].fillna(train['Mas Vnr Area'].mean(), inplace = True)\n",
    "\n",
    "# Existence of Garage\n",
    "train['Garage Cars'].fillna(0.0, inplace = True)\n",
    "train['Garage Area'].fillna(0.0, inplace = True)\n",
    "\n",
    "# Existence of Basement\n",
    "train['Bsmt Half Bath'].fillna(0.0, inplace = True)\n",
    "train['Bsmt Full Bath'].fillna(0.0, inplace = True)\n",
    "train['BsmtFin SF 1'].fillna(0.0, inplace = True)\n",
    "train['BsmtFin SF 2'].fillna(0.0, inplace = True)\n",
    "train['Bsmt Unf SF'].fillna(0.0, inplace = True)\n",
    "train['Total Bsmt SF'].fillna(0.0, inplace = True)"
   ]
  },
  {
   "cell_type": "markdown",
   "metadata": {},
   "source": [
    "### Non-numerical"
   ]
  },
  {
   "cell_type": "code",
   "execution_count": 18,
   "metadata": {},
   "outputs": [],
   "source": [
    "# Extract all column data that was not analysed in train_num\n",
    "train_non_num = train[[col for col in train.columns if col not in train_num]]"
   ]
  },
  {
   "cell_type": "code",
   "execution_count": 19,
   "metadata": {},
   "outputs": [
    {
     "data": {
      "text/plain": [
       "Pool QC           2042\n",
       "Misc Feature      1986\n",
       "Alley             1911\n",
       "Fence             1651\n",
       "Fireplace Qu      1000\n",
       "Garage Cond        114\n",
       "Garage Qual        114\n",
       "Garage Finish      114\n",
       "Garage Type        113\n",
       "Bsmt Exposure       58\n",
       "BsmtFin Type 2      56\n",
       "BsmtFin Type 1      55\n",
       "Bsmt Cond           55\n",
       "Bsmt Qual           55\n",
       "Mas Vnr Type        22\n",
       "Condition 1          0\n",
       "Neighborhood         0\n",
       "Condition 2          0\n",
       "Bldg Type            0\n",
       "Sale Type            0\n",
       "Lot Config           0\n",
       "Land Slope           0\n",
       "Roof Style           0\n",
       "Utilities            0\n",
       "Land Contour         0\n",
       "Lot Shape            0\n",
       "Street               0\n",
       "House Style          0\n",
       "Foundation           0\n",
       "Roof Matl            0\n",
       "Exterior 1st         0\n",
       "Exterior 2nd         0\n",
       "Exter Qual           0\n",
       "Exter Cond           0\n",
       "Heating              0\n",
       "Heating QC           0\n",
       "Central Air          0\n",
       "Electrical           0\n",
       "Kitchen Qual         0\n",
       "Functional           0\n",
       "Paved Drive          0\n",
       "MS Zoning            0\n",
       "dtype: int64"
      ]
     },
     "execution_count": 19,
     "metadata": {},
     "output_type": "execute_result"
    }
   ],
   "source": [
    "train_non_num.isnull().sum().sort_values(ascending=False)"
   ]
  },
  {
   "cell_type": "markdown",
   "metadata": {},
   "source": [
    "### Based on the non-numerical null values above, we have decided to categorise our approach to deal with the null values\n",
    "\n",
    "#### Drop entire column\n",
    "As there is a large amount of null value, we have decided to drop the following columns\n",
    "1. **Pool QC**\n",
    "2. **Misc Feature**\n",
    "3. **Alley**\n",
    "4. **Fence**\n",
    "5. **Fireplace Qu**\n",
    "\n",
    "#### Non-existent\n",
    "Based on the Ordinal data, we will assume there is no Garage/Basement for the following rows and convert the null value to NA/None based on their respective category.\n",
    "6. **Garage Cond**\n",
    "7. **Garage Qual**\n",
    "8. **Garage Finish**\n",
    "9. **Garage Type**\n",
    "10. **Bsmt Exposure**\n",
    "11. **BsmtFin Type 2**\n",
    "12. **BsmtFin Type 1**\n",
    "13. **Bsmt Cond**\n",
    "14. **Bsmt Qual**\n",
    "15. **Mas Vnr Type**\n"
   ]
  },
  {
   "cell_type": "markdown",
   "metadata": {},
   "source": [
    "#### Adjustments passed"
   ]
  },
  {
   "cell_type": "code",
   "execution_count": 20,
   "metadata": {},
   "outputs": [
    {
     "name": "stderr",
     "output_type": "stream",
     "text": [
      "C:\\Users\\admin\\Anaconda3\\lib\\site-packages\\pandas\\core\\frame.py:4102: SettingWithCopyWarning: \n",
      "A value is trying to be set on a copy of a slice from a DataFrame\n",
      "\n",
      "See the caveats in the documentation: http://pandas.pydata.org/pandas-docs/stable/user_guide/indexing.html#returning-a-view-versus-a-copy\n",
      "  errors=errors,\n"
     ]
    }
   ],
   "source": [
    "# Large null value\n",
    "train.drop(columns=['Pool QC', 'Misc Feature', 'Alley', 'Fence', 'Fireplace Qu'], inplace=True)\n",
    "train_non_num.drop(columns=['Pool QC', 'Misc Feature', 'Alley', 'Fence', 'Fireplace Qu'], inplace=True)\n",
    "# Existence of Garage\n",
    "train['Garage Cond'].fillna('NA', inplace = True)\n",
    "train['Garage Qual'].fillna('NA', inplace = True)\n",
    "train['Garage Finish'].fillna('NA', inplace = True)\n",
    "train['Garage Type'].fillna('NA', inplace = True)\n",
    "\n",
    "# Existence of Basement\n",
    "train['Bsmt Exposure'].fillna('NA', inplace = True)\n",
    "train['BsmtFin Type 2'].fillna('NA', inplace = True)\n",
    "train['BsmtFin Type 1'].fillna('NA', inplace = True)\n",
    "train['Bsmt Cond'].fillna('NA', inplace = True)\n",
    "train['Bsmt Qual'].fillna('NA', inplace = True)\n",
    "\n",
    "# Existence of Masonry\n",
    "train['Mas Vnr Type'].fillna('None', inplace = True)"
   ]
  },
  {
   "cell_type": "code",
   "execution_count": 21,
   "metadata": {
    "scrolled": false
   },
   "outputs": [
    {
     "data": {
      "text/plain": [
       "SalePrice         0\n",
       "Exter Qual        0\n",
       "Year Remod/Add    0\n",
       "Roof Style        0\n",
       "Roof Matl         0\n",
       "                 ..\n",
       "Bedroom AbvGr     0\n",
       "Kitchen AbvGr     0\n",
       "Kitchen Qual      0\n",
       "TotRms AbvGrd     0\n",
       "Id                0\n",
       "Length: 76, dtype: int64"
      ]
     },
     "execution_count": 21,
     "metadata": {},
     "output_type": "execute_result"
    }
   ],
   "source": [
    "# Check for any remaining null values\n",
    "train.isnull().sum().sort_values(ascending=False)"
   ]
  },
  {
   "cell_type": "markdown",
   "metadata": {},
   "source": [
    "---"
   ]
  },
  {
   "cell_type": "markdown",
   "metadata": {},
   "source": [
    "## Datatypes"
   ]
  },
  {
   "cell_type": "markdown",
   "metadata": {},
   "source": [
    "We analyse the column types in the dataset to identify if they are categorised appropriately."
   ]
  },
  {
   "cell_type": "markdown",
   "metadata": {},
   "source": [
    "### Numerical"
   ]
  },
  {
   "cell_type": "code",
   "execution_count": 22,
   "metadata": {},
   "outputs": [
    {
     "data": {
      "text/plain": [
       "Id                   int64\n",
       "PID                  int64\n",
       "MS SubClass          int64\n",
       "Lot Frontage       float64\n",
       "Lot Area             int64\n",
       "Overall Qual         int64\n",
       "Overall Cond         int64\n",
       "Year Built           int64\n",
       "Year Remod/Add       int64\n",
       "Mas Vnr Area       float64\n",
       "BsmtFin SF 1       float64\n",
       "BsmtFin SF 2       float64\n",
       "Bsmt Unf SF        float64\n",
       "Total Bsmt SF      float64\n",
       "1st Flr SF           int64\n",
       "2nd Flr SF           int64\n",
       "Low Qual Fin SF      int64\n",
       "Gr Liv Area          int64\n",
       "Bsmt Full Bath     float64\n",
       "Bsmt Half Bath     float64\n",
       "Full Bath            int64\n",
       "Half Bath            int64\n",
       "Bedroom AbvGr        int64\n",
       "Kitchen AbvGr        int64\n",
       "TotRms AbvGrd        int64\n",
       "Fireplaces           int64\n",
       "Garage Yr Blt      float64\n",
       "Garage Cars        float64\n",
       "Garage Area        float64\n",
       "Wood Deck SF         int64\n",
       "Open Porch SF        int64\n",
       "Enclosed Porch       int64\n",
       "3Ssn Porch           int64\n",
       "Screen Porch         int64\n",
       "Pool Area            int64\n",
       "Misc Val             int64\n",
       "Mo Sold              int64\n",
       "Yr Sold              int64\n",
       "SalePrice            int64\n",
       "dtype: object"
      ]
     },
     "execution_count": 22,
     "metadata": {},
     "output_type": "execute_result"
    }
   ],
   "source": [
    "train_num.dtypes"
   ]
  },
  {
   "cell_type": "markdown",
   "metadata": {},
   "source": [
    "### Observations:\n",
    "We can see that majority of the datatypes are related to continuous data such as area and distance, and discrete data such as number of baths. We have narrowed down a few columns which are not in-line with being represented as a numerical feature:\n",
    "\n",
    "- **MS Subclass (Nominal)**: Type of dwelling involved in the sale\n",
    "\n",
    "We will convert this column into a string as it is a categorical variable.\n",
    "\n",
    "Also, we take note of these data as the value (higher or lower) may not directly attribute to SalePrice:\n",
    "\n",
    "- **Year Built (Discrete)**: Year built\n",
    "- **Year Remod/Add (Discrete)**: Year remodelled\n",
    "- **Garage Yr Blt (Discrete)**: Garage year built"
   ]
  },
  {
   "cell_type": "markdown",
   "metadata": {},
   "source": [
    "#### Adjustments passed"
   ]
  },
  {
   "cell_type": "code",
   "execution_count": 23,
   "metadata": {},
   "outputs": [],
   "source": [
    "train['MS SubClass'] = train['MS SubClass'].astype(str)\n",
    "test['MS SubClass'] = test['MS SubClass'].astype(str)"
   ]
  },
  {
   "cell_type": "markdown",
   "metadata": {},
   "source": [
    "### Non-numerical"
   ]
  },
  {
   "cell_type": "code",
   "execution_count": 24,
   "metadata": {},
   "outputs": [
    {
     "data": {
      "text/plain": [
       "MS Zoning         object\n",
       "Street            object\n",
       "Lot Shape         object\n",
       "Land Contour      object\n",
       "Utilities         object\n",
       "Lot Config        object\n",
       "Land Slope        object\n",
       "Neighborhood      object\n",
       "Condition 1       object\n",
       "Condition 2       object\n",
       "Bldg Type         object\n",
       "House Style       object\n",
       "Roof Style        object\n",
       "Roof Matl         object\n",
       "Exterior 1st      object\n",
       "Exterior 2nd      object\n",
       "Mas Vnr Type      object\n",
       "Exter Qual        object\n",
       "Exter Cond        object\n",
       "Foundation        object\n",
       "Bsmt Qual         object\n",
       "Bsmt Cond         object\n",
       "Bsmt Exposure     object\n",
       "BsmtFin Type 1    object\n",
       "BsmtFin Type 2    object\n",
       "Heating           object\n",
       "Heating QC        object\n",
       "Central Air       object\n",
       "Electrical        object\n",
       "Kitchen Qual      object\n",
       "Functional        object\n",
       "Garage Type       object\n",
       "Garage Finish     object\n",
       "Garage Qual       object\n",
       "Garage Cond       object\n",
       "Paved Drive       object\n",
       "Sale Type         object\n",
       "dtype: object"
      ]
     },
     "execution_count": 24,
     "metadata": {},
     "output_type": "execute_result"
    }
   ],
   "source": [
    "train_non_num.dtypes"
   ]
  },
  {
   "cell_type": "code",
   "execution_count": 25,
   "metadata": {},
   "outputs": [],
   "source": [
    "# After data cleaning is complete, we update our num and non_num dataframe if we require further analysis\n",
    "train_num = train[[col for col in train._get_numeric_data().columns]]\n",
    "train_non_num = train[[col for col in train.columns if col not in train_num]]"
   ]
  },
  {
   "cell_type": "markdown",
   "metadata": {},
   "source": [
    "### Test Data Cleaning"
   ]
  },
  {
   "cell_type": "code",
   "execution_count": 26,
   "metadata": {},
   "outputs": [
    {
     "data": {
      "text/plain": [
       "Pool QC         875\n",
       "Misc Feature    838\n",
       "Alley           821\n",
       "Fence           707\n",
       "Fireplace Qu    422\n",
       "               ... \n",
       "Heating QC        0\n",
       "Heating           0\n",
       "Yr Sold           0\n",
       "Bsmt Unf SF       0\n",
       "Id                0\n",
       "Length: 80, dtype: int64"
      ]
     },
     "execution_count": 26,
     "metadata": {},
     "output_type": "execute_result"
    }
   ],
   "source": [
    "test.isnull().sum().sort_values(ascending=False)"
   ]
  },
  {
   "cell_type": "code",
   "execution_count": 27,
   "metadata": {},
   "outputs": [
    {
     "data": {
      "text/plain": [
       "(879, 80)"
      ]
     },
     "execution_count": 27,
     "metadata": {},
     "output_type": "execute_result"
    }
   ],
   "source": [
    "test.shape"
   ]
  },
  {
   "cell_type": "code",
   "execution_count": 28,
   "metadata": {},
   "outputs": [],
   "source": [
    "# Similar to train data, we will be performing the same adjustments to numeric and non-numeric data separately due to the vast number of columns\n",
    "test_num = test[[col for col in test._get_numeric_data().columns]]"
   ]
  },
  {
   "cell_type": "code",
   "execution_count": 29,
   "metadata": {},
   "outputs": [],
   "source": [
    "test_non_num = test[[col for col in test.columns if col not in test_num.columns]]"
   ]
  },
  {
   "cell_type": "code",
   "execution_count": 30,
   "metadata": {},
   "outputs": [
    {
     "data": {
      "text/plain": [
       "Lot Frontage       160\n",
       "Garage Yr Blt       45\n",
       "Mas Vnr Area         1\n",
       "BsmtFin SF 1         0\n",
       "Low Qual Fin SF      0\n",
       "2nd Flr SF           0\n",
       "1st Flr SF           0\n",
       "Total Bsmt SF        0\n",
       "Bsmt Unf SF          0\n",
       "BsmtFin SF 2         0\n",
       "Yr Sold              0\n",
       "Bsmt Full Bath       0\n",
       "Year Remod/Add       0\n",
       "Year Built           0\n",
       "Overall Cond         0\n",
       "Overall Qual         0\n",
       "Lot Area             0\n",
       "PID                  0\n",
       "Gr Liv Area          0\n",
       "Bsmt Half Bath       0\n",
       "Mo Sold              0\n",
       "Wood Deck SF         0\n",
       "Misc Val             0\n",
       "Pool Area            0\n",
       "Screen Porch         0\n",
       "3Ssn Porch           0\n",
       "Enclosed Porch       0\n",
       "Open Porch SF        0\n",
       "Garage Area          0\n",
       "Full Bath            0\n",
       "Garage Cars          0\n",
       "Fireplaces           0\n",
       "TotRms AbvGrd        0\n",
       "Kitchen AbvGr        0\n",
       "Bedroom AbvGr        0\n",
       "Half Bath            0\n",
       "Id                   0\n",
       "dtype: int64"
      ]
     },
     "execution_count": 30,
     "metadata": {},
     "output_type": "execute_result"
    }
   ],
   "source": [
    "test_num.isnull().sum().sort_values(ascending=False)"
   ]
  },
  {
   "cell_type": "code",
   "execution_count": 31,
   "metadata": {
    "scrolled": false
   },
   "outputs": [
    {
     "data": {
      "text/plain": [
       "Pool QC           875\n",
       "Misc Feature      838\n",
       "Alley             821\n",
       "Fence             707\n",
       "Fireplace Qu      422\n",
       "Garage Cond        45\n",
       "Garage Qual        45\n",
       "Garage Finish      45\n",
       "Garage Type        44\n",
       "BsmtFin Type 2     25\n",
       "Bsmt Qual          25\n",
       "Bsmt Cond          25\n",
       "Bsmt Exposure      25\n",
       "BsmtFin Type 1     25\n",
       "Electrical          1\n",
       "Mas Vnr Type        1\n",
       "Land Slope          0\n",
       "Neighborhood        0\n",
       "Condition 2         0\n",
       "Lot Config          0\n",
       "Condition 1         0\n",
       "Sale Type           0\n",
       "Land Contour        0\n",
       "Utilities           0\n",
       "House Style         0\n",
       "Lot Shape           0\n",
       "Street              0\n",
       "MS Zoning           0\n",
       "Bldg Type           0\n",
       "Foundation          0\n",
       "Roof Style          0\n",
       "Roof Matl           0\n",
       "Exterior 1st        0\n",
       "Exterior 2nd        0\n",
       "Exter Qual          0\n",
       "Exter Cond          0\n",
       "Heating             0\n",
       "Heating QC          0\n",
       "Central Air         0\n",
       "Kitchen Qual        0\n",
       "Functional          0\n",
       "Paved Drive         0\n",
       "MS SubClass         0\n",
       "dtype: int64"
      ]
     },
     "execution_count": 31,
     "metadata": {},
     "output_type": "execute_result"
    }
   ],
   "source": [
    "test_non_num.isnull().sum().sort_values(ascending=False)"
   ]
  },
  {
   "cell_type": "markdown",
   "metadata": {},
   "source": [
    "#### Adjustments passed"
   ]
  },
  {
   "cell_type": "code",
   "execution_count": 32,
   "metadata": {},
   "outputs": [],
   "source": [
    "# Mean\n",
    "test['Lot Frontage'].fillna(test['Lot Frontage'].mean(), inplace = True)\n",
    "test['Garage Yr Blt'].fillna(test['Garage Yr Blt'].mean(), inplace = True)\n",
    "test['Mas Vnr Area'].fillna(test['Mas Vnr Area'].mean(), inplace = True)\n",
    "\n",
    "# Existence of Garage\n",
    "test['Garage Cars'].fillna(0.0, inplace = True)\n",
    "test['Garage Area'].fillna(0.0, inplace = True)\n",
    "\n",
    "# Existence of Basement\n",
    "test['Bsmt Half Bath'].fillna(0.0, inplace = True)\n",
    "test['Bsmt Full Bath'].fillna(0.0, inplace = True)\n",
    "test['BsmtFin SF 1'].fillna(0.0, inplace = True)\n",
    "test['BsmtFin SF 2'].fillna(0.0, inplace = True)\n",
    "test['Bsmt Unf SF'].fillna(0.0, inplace = True)\n",
    "test['Total Bsmt SF'].fillna(0.0, inplace = True)"
   ]
  },
  {
   "cell_type": "code",
   "execution_count": 33,
   "metadata": {},
   "outputs": [],
   "source": [
    "# Large null value\n",
    "test.drop(columns=['Pool QC', 'Misc Feature', 'Alley', 'Fence', 'Fireplace Qu'], inplace=True)\n",
    "test_non_num.drop(columns=['Pool QC', 'Misc Feature', 'Alley', 'Fence', 'Fireplace Qu'], inplace=True)\n",
    "# Existence of Garage\n",
    "test['Garage Cond'].fillna('NA', inplace = True)\n",
    "test['Garage Qual'].fillna('NA', inplace = True)\n",
    "test['Garage Finish'].fillna('NA', inplace = True)\n",
    "test['Garage Type'].fillna('NA', inplace = True)\n",
    "\n",
    "# Existence of Basement\n",
    "test['Bsmt Exposure'].fillna('NA', inplace = True)\n",
    "test['BsmtFin Type 2'].fillna('NA', inplace = True)\n",
    "test['BsmtFin Type 1'].fillna('NA', inplace = True)\n",
    "test['Bsmt Cond'].fillna('NA', inplace = True)\n",
    "test['Bsmt Qual'].fillna('NA', inplace = True)\n",
    "\n",
    "# Existence of Masonry\n",
    "test['Mas Vnr Type'].fillna('None', inplace = True)"
   ]
  },
  {
   "cell_type": "code",
   "execution_count": 34,
   "metadata": {},
   "outputs": [
    {
     "data": {
      "text/plain": [
       "Electrical        1\n",
       "Sale Type         0\n",
       "Exter Qual        0\n",
       "Year Remod/Add    0\n",
       "Roof Style        0\n",
       "                 ..\n",
       "Half Bath         0\n",
       "Bedroom AbvGr     0\n",
       "Kitchen AbvGr     0\n",
       "Kitchen Qual      0\n",
       "Id                0\n",
       "Length: 75, dtype: int64"
      ]
     },
     "execution_count": 34,
     "metadata": {},
     "output_type": "execute_result"
    }
   ],
   "source": [
    "test.isnull().sum().sort_values(ascending=False)"
   ]
  },
  {
   "cell_type": "code",
   "execution_count": 35,
   "metadata": {},
   "outputs": [
    {
     "data": {
      "text/plain": [
       "SBrkr    814\n",
       "FuseA     48\n",
       "FuseF     15\n",
       "FuseP      1\n",
       "Name: Electrical, dtype: int64"
      ]
     },
     "execution_count": 35,
     "metadata": {},
     "output_type": "execute_result"
    }
   ],
   "source": [
    "# Additional adjustment ('Electrical')\n",
    "# Analyse the unique values\n",
    "# We noted that SBrkr is the majority value within the Electrical column\n",
    "# As there is only 1 null value, we will substitute the null value with the majority class\n",
    "test['Electrical'].value_counts()"
   ]
  },
  {
   "cell_type": "code",
   "execution_count": 36,
   "metadata": {},
   "outputs": [],
   "source": [
    "train['Electrical'].fillna('SBrkr', inplace = True)"
   ]
  },
  {
   "cell_type": "code",
   "execution_count": 37,
   "metadata": {
    "scrolled": true
   },
   "outputs": [
    {
     "data": {
      "text/plain": [
       "Electrical        1\n",
       "Sale Type         0\n",
       "Exter Qual        0\n",
       "Year Remod/Add    0\n",
       "Roof Style        0\n",
       "                 ..\n",
       "Half Bath         0\n",
       "Bedroom AbvGr     0\n",
       "Kitchen AbvGr     0\n",
       "Kitchen Qual      0\n",
       "Id                0\n",
       "Length: 75, dtype: int64"
      ]
     },
     "execution_count": 37,
     "metadata": {},
     "output_type": "execute_result"
    }
   ],
   "source": [
    "# After dropping the row with 'Electrical' null value, our test data is free of null values\n",
    "test.isnull().sum().sort_values(ascending=False)"
   ]
  },
  {
   "cell_type": "code",
   "execution_count": 38,
   "metadata": {},
   "outputs": [],
   "source": [
    "# We update our dataframes with the test dataframe after adjustments\n",
    "test_num = test[[col for col in test._get_numeric_data().columns]]\n",
    "test_non_num = test[[col for col in test.columns if col not in test_num]]"
   ]
  },
  {
   "cell_type": "markdown",
   "metadata": {},
   "source": [
    "### Additional cleaning\n",
    "For our test dataset, we wil be performing 2 more tests to ensure that the data is in-line with the training dataset.\n",
    "\n",
    "1. Ensure columns are the same\n",
    "2. Ensure categorical variables unique values match train data"
   ]
  },
  {
   "cell_type": "markdown",
   "metadata": {},
   "source": [
    "#### Same columns\n",
    "Here, we define a function to cross check columns in our updated train and test dataset."
   ]
  },
  {
   "cell_type": "code",
   "execution_count": 39,
   "metadata": {},
   "outputs": [],
   "source": [
    "def column_cross_check(train, test):\n",
    "    \"\"\"Cross-checks training and test datasets by iterating through the columns to see if it is in each other's column\"\"\"\n",
    "    train_list = train.columns\n",
    "    test_list = test.columns\n",
    "    missing_from_train = []\n",
    "    missing_from_test = []\n",
    "    for col in train_list:\n",
    "        if col not in test_list:\n",
    "            missing_from_test.append(col)\n",
    "        else:\n",
    "            continue\n",
    "    for col in test_list:\n",
    "        if col not in train_list:\n",
    "            missing_from_train.append(col)\n",
    "        else:\n",
    "            continue\n",
    "    print ('Train dataset is missing {}'.format(missing_from_train))\n",
    "    print ('Test dataset is missing {}'.format(missing_from_test))"
   ]
  },
  {
   "cell_type": "code",
   "execution_count": 40,
   "metadata": {
    "scrolled": true
   },
   "outputs": [
    {
     "name": "stdout",
     "output_type": "stream",
     "text": [
      "Train dataset is missing []\n",
      "Test dataset is missing ['SalePrice']\n"
     ]
    }
   ],
   "source": [
    "# From our function, we can see that the only missing column is that the test dataset does not have salesprice. This is in-line with our understanding.\n",
    "column_cross_check(train, test)"
   ]
  },
  {
   "cell_type": "markdown",
   "metadata": {},
   "source": [
    "---"
   ]
  },
  {
   "cell_type": "markdown",
   "metadata": {},
   "source": [
    "## Exploratory Data Analysis"
   ]
  },
  {
   "cell_type": "markdown",
   "metadata": {},
   "source": [
    "### Analysis on numerical data\n",
    "\n",
    "#### Sale Price Correlation"
   ]
  },
  {
   "cell_type": "code",
   "execution_count": 41,
   "metadata": {
    "scrolled": true
   },
   "outputs": [
    {
     "data": {
      "image/png": "[encoded data removed]",
      "text/plain": [
       "<Figure size 1440x720 with 2 Axes>"
      ]
     },
     "metadata": {
      "needs_background": "light"
     },
     "output_type": "display_data"
    }
   ],
   "source": [
    "corrmat = train.corr()\n",
    "plt.figure(figsize=(20,10))\n",
    "k = 15\n",
    "cols = corrmat.nlargest(k, 'SalePrice')['SalePrice'].index\n",
    "cm = np.corrcoef(train[cols].values.T)\n",
    "sns.set(font_scale=1.25)\n",
    "cmap = sns.diverging_palette(220, 10, as_cmap=True)\n",
    "ax = sns.heatmap(cm, cmap=cmap, cbar=True, annot=True, square=True, fmt='.2f', annot_kws={'size': 10}, yticklabels=cols.values, xticklabels=cols.values)\n",
    "bottom, top = ax.get_ylim()\n",
    "ax.set_ylim(bottom + 0.5, top - 0.5)\n",
    "ax.set_title(\"Top variables affecting Sales Price\");\n",
    "plt.show()"
   ]
  },
  {
   "cell_type": "markdown",
   "metadata": {},
   "source": [
    "We will be looking at the first column of the heatmap which represents the top variables affecting sales price.\n",
    "\n",
    "**Takeaways**\n",
    "- **Space in general** contributes to higher price as the basement and 1st floor square feet have a **high positive correlation above 60%**\n",
    "- The size of the **garage** greatly affects sales price with the area and car space greatly contributing to the influence. We will **create a total square feet column** which includes the area of other living areas in the house as well to represent the space feature\n",
    "- The higher the **Overall Quality** of the house greatly increases sales price, representing a **correlation of 80%**\n",
    "- Higher number of **year built** has a **correlation above 50%**. This could be interpretted as newer houses built (e.g. 2005 vs 2010) carry a larger sale price perhaps due to a smaller age of the house. Based on this, we will create an age column as we can infer that younger houses will fetch a higher sale price\n",
    "- As year **remodelled has a positive correlation of 55%** with sale price, we will create a column of categorical variables that represents whether a house has been remodelled"
   ]
  },
  {
   "cell_type": "code",
   "execution_count": 42,
   "metadata": {},
   "outputs": [],
   "source": [
    "# Creating Total Square Feet column based on the sum of Basement, Garage, 1st and 2nd Floor square feet\n",
    "train['Total SF'] = train['Total Bsmt SF'] + train['Gr Liv Area'] + train['1st Flr SF'] + train['2nd Flr SF']\n",
    "\n",
    "# Age Column = Year Sold - Year Built\n",
    "train['Age'] = train['Yr Sold'] - train['Year Built']\n",
    "\n",
    "# Factoring in if the house has been remodelled or not\n",
    "train['Remodelled'] = np.where(train['Year Remod/Add'] == train['Year Built'], 1, 0)"
   ]
  },
  {
   "cell_type": "code",
   "execution_count": 43,
   "metadata": {},
   "outputs": [],
   "source": [
    "# Create the same columns for our test data\n",
    "test['Total SF'] = test['Total Bsmt SF'] + test['Gr Liv Area'] + test['1st Flr SF'] + test['2nd Flr SF']\n",
    "test['Age'] = test['Yr Sold'] - test['Year Built']\n",
    "test['Remodelled'] = np.where(test['Year Remod/Add'] == test['Year Built'], 1, 0)"
   ]
  },
  {
   "cell_type": "markdown",
   "metadata": {},
   "source": [
    "#### Validity of new 'Age' column"
   ]
  },
  {
   "cell_type": "code",
   "execution_count": 44,
   "metadata": {},
   "outputs": [
    {
     "data": {
      "text/html": [
       "<div>\n",
       "<style scoped>\n",
       "    .dataframe tbody tr th:only-of-type {\n",
       "        vertical-align: middle;\n",
       "    }\n",
       "\n",
       "    .dataframe tbody tr th {\n",
       "        vertical-align: top;\n",
       "    }\n",
       "\n",
       "    .dataframe thead th {\n",
       "        text-align: right;\n",
       "    }\n",
       "</style>\n",
       "<table border=\"1\" class=\"dataframe\">\n",
       "  <thead>\n",
       "    <tr style=\"text-align: right;\">\n",
       "      <th></th>\n",
       "      <th>SalePrice</th>\n",
       "    </tr>\n",
       "    <tr>\n",
       "      <th>Age</th>\n",
       "      <th></th>\n",
       "    </tr>\n",
       "  </thead>\n",
       "  <tbody>\n",
       "    <tr>\n",
       "      <td>-1</td>\n",
       "      <td>183850.000000</td>\n",
       "    </tr>\n",
       "    <tr>\n",
       "      <td>0</td>\n",
       "      <td>282679.362500</td>\n",
       "    </tr>\n",
       "    <tr>\n",
       "      <td>1</td>\n",
       "      <td>265641.714286</td>\n",
       "    </tr>\n",
       "    <tr>\n",
       "      <td>2</td>\n",
       "      <td>233677.887097</td>\n",
       "    </tr>\n",
       "    <tr>\n",
       "      <td>3</td>\n",
       "      <td>252187.500000</td>\n",
       "    </tr>\n",
       "    <tr>\n",
       "      <td>...</td>\n",
       "      <td>...</td>\n",
       "    </tr>\n",
       "    <tr>\n",
       "      <td>127</td>\n",
       "      <td>117500.000000</td>\n",
       "    </tr>\n",
       "    <tr>\n",
       "      <td>128</td>\n",
       "      <td>240000.000000</td>\n",
       "    </tr>\n",
       "    <tr>\n",
       "      <td>129</td>\n",
       "      <td>131000.000000</td>\n",
       "    </tr>\n",
       "    <tr>\n",
       "      <td>135</td>\n",
       "      <td>94000.000000</td>\n",
       "    </tr>\n",
       "    <tr>\n",
       "      <td>136</td>\n",
       "      <td>122000.000000</td>\n",
       "    </tr>\n",
       "  </tbody>\n",
       "</table>\n",
       "<p>123 rows × 1 columns</p>\n",
       "</div>"
      ],
      "text/plain": [
       "          SalePrice\n",
       "Age                \n",
       "-1    183850.000000\n",
       " 0    282679.362500\n",
       " 1    265641.714286\n",
       " 2    233677.887097\n",
       " 3    252187.500000\n",
       "...             ...\n",
       " 127  117500.000000\n",
       " 128  240000.000000\n",
       " 129  131000.000000\n",
       " 135   94000.000000\n",
       " 136  122000.000000\n",
       "\n",
       "[123 rows x 1 columns]"
      ]
     },
     "execution_count": 44,
     "metadata": {},
     "output_type": "execute_result"
    }
   ],
   "source": [
    "# Analyse the mean sales prices for different ages of houses\n",
    "train.pivot_table(index='Age', values='SalePrice')"
   ]
  },
  {
   "cell_type": "code",
   "execution_count": 45,
   "metadata": {},
   "outputs": [
    {
     "data": {
      "text/html": [
       "<div>\n",
       "<style scoped>\n",
       "    .dataframe tbody tr th:only-of-type {\n",
       "        vertical-align: middle;\n",
       "    }\n",
       "\n",
       "    .dataframe tbody tr th {\n",
       "        vertical-align: top;\n",
       "    }\n",
       "\n",
       "    .dataframe thead th {\n",
       "        text-align: right;\n",
       "    }\n",
       "</style>\n",
       "<table border=\"1\" class=\"dataframe\">\n",
       "  <thead>\n",
       "    <tr style=\"text-align: right;\">\n",
       "      <th></th>\n",
       "      <th>Id</th>\n",
       "      <th>Age</th>\n",
       "      <th>Yr Sold</th>\n",
       "      <th>Year Remod/Add</th>\n",
       "      <th>Year Built</th>\n",
       "      <th>SalePrice</th>\n",
       "      <th>Total SF</th>\n",
       "    </tr>\n",
       "  </thead>\n",
       "  <tbody>\n",
       "    <tr>\n",
       "      <td>1885</td>\n",
       "      <td>2181</td>\n",
       "      <td>-1</td>\n",
       "      <td>2007</td>\n",
       "      <td>2009</td>\n",
       "      <td>2008</td>\n",
       "      <td>183850</td>\n",
       "      <td>15285.0</td>\n",
       "    </tr>\n",
       "  </tbody>\n",
       "</table>\n",
       "</div>"
      ],
      "text/plain": [
       "        Id  Age  Yr Sold  Year Remod/Add  Year Built  SalePrice  Total SF\n",
       "1885  2181   -1     2007            2009        2008     183850   15285.0"
      ]
     },
     "execution_count": 45,
     "metadata": {},
     "output_type": "execute_result"
    }
   ],
   "source": [
    "# Identifying house with Age = -1\n",
    "train.loc[train['Age'] == -1, ['Id', 'Age', 'Yr Sold', 'Year Remod/Add', 'Year Built', 'SalePrice', 'Total SF']]"
   ]
  },
  {
   "cell_type": "markdown",
   "metadata": {},
   "source": [
    "#### Takeaways\n",
    "- We detected an abnormally in the Age of a house sold, the house has been sold 1 year before it is built\n",
    "- We originally made an assumption that this was a typo error and that the house's age is 0\n",
    "- However, comparing the sales price of 180K to the age of houses Aged 0 - 3 (Average 250K), it is not in-line with our assumption that new houses are more expensive\n",
    "- Thus we cannot assume that the actual age of the house is 0 and will drop the row"
   ]
  },
  {
   "cell_type": "markdown",
   "metadata": {},
   "source": [
    "#### Overall Quality level"
   ]
  },
  {
   "cell_type": "code",
   "execution_count": 46,
   "metadata": {
    "scrolled": false
   },
   "outputs": [],
   "source": [
    "quality = train.pivot_table(index='Overall Qual', values='SalePrice')"
   ]
  },
  {
   "cell_type": "code",
   "execution_count": 47,
   "metadata": {
    "scrolled": true
   },
   "outputs": [
    {
     "data": {
      "image/png": "[encoded data removed]",
      "text/plain": [
       "<Figure size 432x288 with 1 Axes>"
      ]
     },
     "metadata": {},
     "output_type": "display_data"
    }
   ],
   "source": [
    "quality.plot(kind='bar', legend=False, color='darkcyan')\n",
    "plt.xlabel('Overall Quality')\n",
    "plt.ylabel('Mean Sale Price')\n",
    "plt.title('Overall Quality trend')\n",
    "plt.xticks(rotation=0);"
   ]
  },
  {
   "cell_type": "markdown",
   "metadata": {},
   "source": [
    "#### Takeaways\n",
    "- Being the highest correlation to sales price of 80%, we note that every step of 1 of overall quality greatly increases the sales price by 20-30K"
   ]
  },
  {
   "cell_type": "markdown",
   "metadata": {},
   "source": [
    "#### Sale Price relation to Square Feet of house"
   ]
  },
  {
   "cell_type": "code",
   "execution_count": 48,
   "metadata": {},
   "outputs": [
    {
     "data": {
      "image/png": "[encoded data removed]",
      "text/plain": [
       "<Figure size 432x288 with 1 Axes>"
      ]
     },
     "metadata": {},
     "output_type": "display_data"
    }
   ],
   "source": [
    "ax = sns.scatterplot(data=train, x='Total SF', y='SalePrice', color = 'coral')\n",
    "ax.set_xlabel('Total SF')\n",
    "ax.set_ylabel('Sale Price')\n",
    "ax.set_title('Total Square Feet vs Sale Price ($)');"
   ]
  },
  {
   "cell_type": "markdown",
   "metadata": {},
   "source": [
    "#### Takeaways\n",
    "- The scatterplot depicts a homoscedastic pattern with the higher the square feet of the overall house, the increase in sales price, however we have noted two outliers on the right of the graph with extremely large square feet (~15K and ~17K respectively)\n",
    "- We will analyse these two outliers to determine if the data input was reasonable:"
   ]
  },
  {
   "cell_type": "code",
   "execution_count": 49,
   "metadata": {},
   "outputs": [
    {
     "data": {
      "text/html": [
       "<div>\n",
       "<style scoped>\n",
       "    .dataframe tbody tr th:only-of-type {\n",
       "        vertical-align: middle;\n",
       "    }\n",
       "\n",
       "    .dataframe tbody tr th {\n",
       "        vertical-align: top;\n",
       "    }\n",
       "\n",
       "    .dataframe thead th {\n",
       "        text-align: right;\n",
       "    }\n",
       "</style>\n",
       "<table border=\"1\" class=\"dataframe\">\n",
       "  <thead>\n",
       "    <tr style=\"text-align: right;\">\n",
       "      <th></th>\n",
       "      <th>Id</th>\n",
       "      <th>Age</th>\n",
       "      <th>Yr Sold</th>\n",
       "      <th>Year Remod/Add</th>\n",
       "      <th>Year Built</th>\n",
       "      <th>SalePrice</th>\n",
       "      <th>Total SF</th>\n",
       "    </tr>\n",
       "  </thead>\n",
       "  <tbody>\n",
       "    <tr>\n",
       "      <td>960</td>\n",
       "      <td>1499</td>\n",
       "      <td>0</td>\n",
       "      <td>2008</td>\n",
       "      <td>2008</td>\n",
       "      <td>2008</td>\n",
       "      <td>160000</td>\n",
       "      <td>17394.0</td>\n",
       "    </tr>\n",
       "    <tr>\n",
       "      <td>1885</td>\n",
       "      <td>2181</td>\n",
       "      <td>-1</td>\n",
       "      <td>2007</td>\n",
       "      <td>2009</td>\n",
       "      <td>2008</td>\n",
       "      <td>183850</td>\n",
       "      <td>15285.0</td>\n",
       "    </tr>\n",
       "  </tbody>\n",
       "</table>\n",
       "</div>"
      ],
      "text/plain": [
       "        Id  Age  Yr Sold  Year Remod/Add  Year Built  SalePrice  Total SF\n",
       "960   1499    0     2008            2008        2008     160000   17394.0\n",
       "1885  2181   -1     2007            2009        2008     183850   15285.0"
      ]
     },
     "execution_count": 49,
     "metadata": {},
     "output_type": "execute_result"
    }
   ],
   "source": [
    "# Analysing outliers with low selling price and large square feet\n",
    "train.loc[train['Total SF'] >= 15000, ['Id', 'Age', 'Yr Sold', 'Year Remod/Add', 'Year Built', 'SalePrice', 'Total SF']]"
   ]
  },
  {
   "cell_type": "markdown",
   "metadata": {},
   "source": [
    "From our analysis, the low selling price of the two houses are an abnormally which we cannot determine whether it was a data input error or a large discount.\n",
    "\n",
    "However as the age of the houses are low (including the typo error of Age -1 for one of the houses), this is against our assumptions that younger houses with larger square feet should have higher Sale Price.\n",
    "\n",
    "We have decided to drop these two outliers for our training dataset."
   ]
  },
  {
   "cell_type": "code",
   "execution_count": 50,
   "metadata": {},
   "outputs": [],
   "source": [
    "# Drop two outlier rows\n",
    "train = train[train['Id'] != 1499]\n",
    "train = train[train['Id'] != 2181]"
   ]
  },
  {
   "cell_type": "markdown",
   "metadata": {},
   "source": [
    "### Analysis on non-numerical data"
   ]
  },
  {
   "cell_type": "markdown",
   "metadata": {},
   "source": [
    "#### Frequency of Top unique values"
   ]
  },
  {
   "cell_type": "code",
   "execution_count": 51,
   "metadata": {},
   "outputs": [
    {
     "data": {
      "text/html": [
       "<div>\n",
       "<style scoped>\n",
       "    .dataframe tbody tr th:only-of-type {\n",
       "        vertical-align: middle;\n",
       "    }\n",
       "\n",
       "    .dataframe tbody tr th {\n",
       "        vertical-align: top;\n",
       "    }\n",
       "\n",
       "    .dataframe thead th {\n",
       "        text-align: right;\n",
       "    }\n",
       "</style>\n",
       "<table border=\"1\" class=\"dataframe\">\n",
       "  <thead>\n",
       "    <tr style=\"text-align: right;\">\n",
       "      <th></th>\n",
       "      <th>MS SubClass</th>\n",
       "      <th>MS Zoning</th>\n",
       "      <th>Street</th>\n",
       "      <th>Lot Shape</th>\n",
       "      <th>Land Contour</th>\n",
       "      <th>Utilities</th>\n",
       "      <th>Lot Config</th>\n",
       "      <th>Land Slope</th>\n",
       "      <th>Neighborhood</th>\n",
       "      <th>Condition 1</th>\n",
       "      <th>...</th>\n",
       "      <th>Central Air</th>\n",
       "      <th>Electrical</th>\n",
       "      <th>Kitchen Qual</th>\n",
       "      <th>Functional</th>\n",
       "      <th>Garage Type</th>\n",
       "      <th>Garage Finish</th>\n",
       "      <th>Garage Qual</th>\n",
       "      <th>Garage Cond</th>\n",
       "      <th>Paved Drive</th>\n",
       "      <th>Sale Type</th>\n",
       "    </tr>\n",
       "  </thead>\n",
       "  <tbody>\n",
       "    <tr>\n",
       "      <td>count</td>\n",
       "      <td>2051</td>\n",
       "      <td>2051</td>\n",
       "      <td>2051</td>\n",
       "      <td>2051</td>\n",
       "      <td>2051</td>\n",
       "      <td>2051</td>\n",
       "      <td>2051</td>\n",
       "      <td>2051</td>\n",
       "      <td>2051</td>\n",
       "      <td>2051</td>\n",
       "      <td>...</td>\n",
       "      <td>2051</td>\n",
       "      <td>2051</td>\n",
       "      <td>2051</td>\n",
       "      <td>2051</td>\n",
       "      <td>2051</td>\n",
       "      <td>2051</td>\n",
       "      <td>2051</td>\n",
       "      <td>2051</td>\n",
       "      <td>2051</td>\n",
       "      <td>2051</td>\n",
       "    </tr>\n",
       "    <tr>\n",
       "      <td>unique</td>\n",
       "      <td>16</td>\n",
       "      <td>7</td>\n",
       "      <td>2</td>\n",
       "      <td>4</td>\n",
       "      <td>4</td>\n",
       "      <td>3</td>\n",
       "      <td>5</td>\n",
       "      <td>3</td>\n",
       "      <td>28</td>\n",
       "      <td>9</td>\n",
       "      <td>...</td>\n",
       "      <td>2</td>\n",
       "      <td>5</td>\n",
       "      <td>4</td>\n",
       "      <td>8</td>\n",
       "      <td>7</td>\n",
       "      <td>4</td>\n",
       "      <td>6</td>\n",
       "      <td>6</td>\n",
       "      <td>3</td>\n",
       "      <td>9</td>\n",
       "    </tr>\n",
       "    <tr>\n",
       "      <td>top</td>\n",
       "      <td>20</td>\n",
       "      <td>RL</td>\n",
       "      <td>Pave</td>\n",
       "      <td>Reg</td>\n",
       "      <td>Lvl</td>\n",
       "      <td>AllPub</td>\n",
       "      <td>Inside</td>\n",
       "      <td>Gtl</td>\n",
       "      <td>NAmes</td>\n",
       "      <td>Norm</td>\n",
       "      <td>...</td>\n",
       "      <td>Y</td>\n",
       "      <td>SBrkr</td>\n",
       "      <td>TA</td>\n",
       "      <td>Typ</td>\n",
       "      <td>Attchd</td>\n",
       "      <td>Unf</td>\n",
       "      <td>TA</td>\n",
       "      <td>TA</td>\n",
       "      <td>Y</td>\n",
       "      <td>WD</td>\n",
       "    </tr>\n",
       "    <tr>\n",
       "      <td>freq</td>\n",
       "      <td>770</td>\n",
       "      <td>1598</td>\n",
       "      <td>2044</td>\n",
       "      <td>1295</td>\n",
       "      <td>1843</td>\n",
       "      <td>2049</td>\n",
       "      <td>1503</td>\n",
       "      <td>1953</td>\n",
       "      <td>310</td>\n",
       "      <td>1767</td>\n",
       "      <td>...</td>\n",
       "      <td>1910</td>\n",
       "      <td>1868</td>\n",
       "      <td>1047</td>\n",
       "      <td>1915</td>\n",
       "      <td>1213</td>\n",
       "      <td>849</td>\n",
       "      <td>1832</td>\n",
       "      <td>1868</td>\n",
       "      <td>1861</td>\n",
       "      <td>1781</td>\n",
       "    </tr>\n",
       "  </tbody>\n",
       "</table>\n",
       "<p>4 rows × 38 columns</p>\n",
       "</div>"
      ],
      "text/plain": [
       "       MS SubClass MS Zoning Street Lot Shape Land Contour Utilities  \\\n",
       "count         2051      2051   2051      2051         2051      2051   \n",
       "unique          16         7      2         4            4         3   \n",
       "top             20        RL   Pave       Reg          Lvl    AllPub   \n",
       "freq           770      1598   2044      1295         1843      2049   \n",
       "\n",
       "       Lot Config Land Slope Neighborhood Condition 1  ... Central Air  \\\n",
       "count        2051       2051         2051        2051  ...        2051   \n",
       "unique          5          3           28           9  ...           2   \n",
       "top        Inside        Gtl        NAmes        Norm  ...           Y   \n",
       "freq         1503       1953          310        1767  ...        1910   \n",
       "\n",
       "       Electrical Kitchen Qual Functional Garage Type Garage Finish  \\\n",
       "count        2051         2051       2051        2051          2051   \n",
       "unique          5            4          8           7             4   \n",
       "top         SBrkr           TA        Typ      Attchd           Unf   \n",
       "freq         1868         1047       1915        1213           849   \n",
       "\n",
       "       Garage Qual Garage Cond Paved Drive Sale Type  \n",
       "count         2051        2051        2051      2051  \n",
       "unique           6           6           3         9  \n",
       "top             TA          TA           Y       WD   \n",
       "freq          1832        1868        1861      1781  \n",
       "\n",
       "[4 rows x 38 columns]"
      ]
     },
     "execution_count": 51,
     "metadata": {},
     "output_type": "execute_result"
    }
   ],
   "source": [
    "# Describe the number of unique variables, \n",
    "# and the frequency of top variables for our categorical data\n",
    "train_non_num.describe()"
   ]
  },
  {
   "cell_type": "markdown",
   "metadata": {},
   "source": [
    "#### Takeaways\n",
    "- We will build our model based on lowest frequency/count ratio of our top unique values\n",
    "- e.g. 'Street' has a top variable called 'Pave' that consist of 99%+ of the total count, we can assume that any future test data that we are feeding into our model will have similar ratio which would result in overall sales prices not being affected by 'Street' due to majority of the variables falling under 'Pave'\n",
    "- We will factor categorical variables with top frequency of less than 65% to fit into our training model"
   ]
  },
  {
   "cell_type": "code",
   "execution_count": 52,
   "metadata": {},
   "outputs": [
    {
     "data": {
      "text/plain": [
       "Neighborhood      0.151146\n",
       "BsmtFin Type 1    0.299854\n",
       "Exterior 2nd      0.351536\n",
       "Exterior 1st      0.352999\n",
       "MS SubClass       0.375427\n",
       "dtype: float64"
      ]
     },
     "execution_count": 52,
     "metadata": {},
     "output_type": "execute_result"
    }
   ],
   "source": [
    "# Create a computation series based on top frequency / count\n",
    "frequency_series = train_non_num.apply(pd.Series.value_counts, normalize=True).max().sort_values()\n",
    "\n",
    "# For each column, what is the frequency / count ratio (Sorted from lowest to highest)\n",
    "frequency_series[:5]"
   ]
  },
  {
   "cell_type": "code",
   "execution_count": 53,
   "metadata": {},
   "outputs": [
    {
     "data": {
      "text/html": [
       "<div>\n",
       "<style scoped>\n",
       "    .dataframe tbody tr th:only-of-type {\n",
       "        vertical-align: middle;\n",
       "    }\n",
       "\n",
       "    .dataframe tbody tr th {\n",
       "        vertical-align: top;\n",
       "    }\n",
       "\n",
       "    .dataframe thead th {\n",
       "        text-align: right;\n",
       "    }\n",
       "</style>\n",
       "<table border=\"1\" class=\"dataframe\">\n",
       "  <thead>\n",
       "    <tr style=\"text-align: right;\">\n",
       "      <th></th>\n",
       "      <th>frequency</th>\n",
       "    </tr>\n",
       "  </thead>\n",
       "  <tbody>\n",
       "    <tr>\n",
       "      <td>Neighborhood</td>\n",
       "      <td>0.151146</td>\n",
       "    </tr>\n",
       "    <tr>\n",
       "      <td>BsmtFin Type 1</td>\n",
       "      <td>0.299854</td>\n",
       "    </tr>\n",
       "    <tr>\n",
       "      <td>Exterior 2nd</td>\n",
       "      <td>0.351536</td>\n",
       "    </tr>\n",
       "    <tr>\n",
       "      <td>Exterior 1st</td>\n",
       "      <td>0.352999</td>\n",
       "    </tr>\n",
       "    <tr>\n",
       "      <td>MS SubClass</td>\n",
       "      <td>0.375427</td>\n",
       "    </tr>\n",
       "  </tbody>\n",
       "</table>\n",
       "</div>"
      ],
      "text/plain": [
       "                frequency\n",
       "Neighborhood     0.151146\n",
       "BsmtFin Type 1   0.299854\n",
       "Exterior 2nd     0.351536\n",
       "Exterior 1st     0.352999\n",
       "MS SubClass      0.375427"
      ]
     },
     "execution_count": 53,
     "metadata": {},
     "output_type": "execute_result"
    }
   ],
   "source": [
    "# Data frame of frequency ratio\n",
    "frequency_values = pd.DataFrame(frequency_series).rename(columns={0: 'frequency'})\n",
    "frequency_values.head()"
   ]
  },
  {
   "cell_type": "code",
   "execution_count": 54,
   "metadata": {},
   "outputs": [
    {
     "data": {
      "text/html": [
       "<div>\n",
       "<style scoped>\n",
       "    .dataframe tbody tr th:only-of-type {\n",
       "        vertical-align: middle;\n",
       "    }\n",
       "\n",
       "    .dataframe tbody tr th {\n",
       "        vertical-align: top;\n",
       "    }\n",
       "\n",
       "    .dataframe thead th {\n",
       "        text-align: right;\n",
       "    }\n",
       "</style>\n",
       "<table border=\"1\" class=\"dataframe\">\n",
       "  <thead>\n",
       "    <tr style=\"text-align: right;\">\n",
       "      <th></th>\n",
       "      <th>unique</th>\n",
       "    </tr>\n",
       "  </thead>\n",
       "  <tbody>\n",
       "    <tr>\n",
       "      <td>MS SubClass</td>\n",
       "      <td>16</td>\n",
       "    </tr>\n",
       "    <tr>\n",
       "      <td>MS Zoning</td>\n",
       "      <td>7</td>\n",
       "    </tr>\n",
       "    <tr>\n",
       "      <td>Street</td>\n",
       "      <td>2</td>\n",
       "    </tr>\n",
       "    <tr>\n",
       "      <td>Lot Shape</td>\n",
       "      <td>4</td>\n",
       "    </tr>\n",
       "    <tr>\n",
       "      <td>Land Contour</td>\n",
       "      <td>4</td>\n",
       "    </tr>\n",
       "  </tbody>\n",
       "</table>\n",
       "</div>"
      ],
      "text/plain": [
       "             unique\n",
       "MS SubClass      16\n",
       "MS Zoning         7\n",
       "Street            2\n",
       "Lot Shape         4\n",
       "Land Contour      4"
      ]
     },
     "execution_count": 54,
     "metadata": {},
     "output_type": "execute_result"
    }
   ],
   "source": [
    "# Creating a dataframe of unique values for each column to prepare for a merge with frequency ratio\n",
    "unique_values = pd.DataFrame.transpose(train_non_num.describe().loc[['unique']])\n",
    "unique_values.head()"
   ]
  },
  {
   "cell_type": "code",
   "execution_count": 55,
   "metadata": {
    "scrolled": true
   },
   "outputs": [
    {
     "data": {
      "text/html": [
       "<div>\n",
       "<style scoped>\n",
       "    .dataframe tbody tr th:only-of-type {\n",
       "        vertical-align: middle;\n",
       "    }\n",
       "\n",
       "    .dataframe tbody tr th {\n",
       "        vertical-align: top;\n",
       "    }\n",
       "\n",
       "    .dataframe thead th {\n",
       "        text-align: right;\n",
       "    }\n",
       "</style>\n",
       "<table border=\"1\" class=\"dataframe\">\n",
       "  <thead>\n",
       "    <tr style=\"text-align: right;\">\n",
       "      <th></th>\n",
       "      <th>frequency</th>\n",
       "      <th>unique</th>\n",
       "    </tr>\n",
       "  </thead>\n",
       "  <tbody>\n",
       "    <tr>\n",
       "      <td>Neighborhood</td>\n",
       "      <td>0.151146</td>\n",
       "      <td>28</td>\n",
       "    </tr>\n",
       "    <tr>\n",
       "      <td>BsmtFin Type 1</td>\n",
       "      <td>0.299854</td>\n",
       "      <td>7</td>\n",
       "    </tr>\n",
       "    <tr>\n",
       "      <td>Exterior 2nd</td>\n",
       "      <td>0.351536</td>\n",
       "      <td>15</td>\n",
       "    </tr>\n",
       "    <tr>\n",
       "      <td>Exterior 1st</td>\n",
       "      <td>0.352999</td>\n",
       "      <td>15</td>\n",
       "    </tr>\n",
       "    <tr>\n",
       "      <td>MS SubClass</td>\n",
       "      <td>0.375427</td>\n",
       "      <td>16</td>\n",
       "    </tr>\n",
       "  </tbody>\n",
       "</table>\n",
       "</div>"
      ],
      "text/plain": [
       "                frequency unique\n",
       "Neighborhood     0.151146     28\n",
       "BsmtFin Type 1   0.299854      7\n",
       "Exterior 2nd     0.351536     15\n",
       "Exterior 1st     0.352999     15\n",
       "MS SubClass      0.375427     16"
      ]
     },
     "execution_count": 55,
     "metadata": {},
     "output_type": "execute_result"
    }
   ],
   "source": [
    "# Combine the two dataframes based on the column name\n",
    "combined = pd.concat([frequency_values,unique_values], axis=1, sort=0)\n",
    "combined.head()"
   ]
  },
  {
   "cell_type": "code",
   "execution_count": 56,
   "metadata": {
    "scrolled": true
   },
   "outputs": [
    {
     "data": {
      "text/html": [
       "<div>\n",
       "<style scoped>\n",
       "    .dataframe tbody tr th:only-of-type {\n",
       "        vertical-align: middle;\n",
       "    }\n",
       "\n",
       "    .dataframe tbody tr th {\n",
       "        vertical-align: top;\n",
       "    }\n",
       "\n",
       "    .dataframe thead th {\n",
       "        text-align: right;\n",
       "    }\n",
       "</style>\n",
       "<table border=\"1\" class=\"dataframe\">\n",
       "  <thead>\n",
       "    <tr style=\"text-align: right;\">\n",
       "      <th></th>\n",
       "      <th>frequency</th>\n",
       "      <th>unique</th>\n",
       "    </tr>\n",
       "  </thead>\n",
       "  <tbody>\n",
       "    <tr>\n",
       "      <td>Neighborhood</td>\n",
       "      <td>0.151146</td>\n",
       "      <td>28</td>\n",
       "    </tr>\n",
       "    <tr>\n",
       "      <td>BsmtFin Type 1</td>\n",
       "      <td>0.299854</td>\n",
       "      <td>7</td>\n",
       "    </tr>\n",
       "    <tr>\n",
       "      <td>Exterior 2nd</td>\n",
       "      <td>0.351536</td>\n",
       "      <td>15</td>\n",
       "    </tr>\n",
       "    <tr>\n",
       "      <td>Exterior 1st</td>\n",
       "      <td>0.352999</td>\n",
       "      <td>15</td>\n",
       "    </tr>\n",
       "    <tr>\n",
       "      <td>MS SubClass</td>\n",
       "      <td>0.375427</td>\n",
       "      <td>16</td>\n",
       "    </tr>\n",
       "  </tbody>\n",
       "</table>\n",
       "</div>"
      ],
      "text/plain": [
       "                frequency unique\n",
       "Neighborhood     0.151146     28\n",
       "BsmtFin Type 1   0.299854      7\n",
       "Exterior 2nd     0.351536     15\n",
       "Exterior 1st     0.352999     15\n",
       "MS SubClass      0.375427     16"
      ]
     },
     "execution_count": 56,
     "metadata": {},
     "output_type": "execute_result"
    }
   ],
   "source": [
    "# Filter frequency values below 65%\n",
    "focus = combined.loc[combined['frequency'] <= 0.65]\n",
    "focus.head()"
   ]
  },
  {
   "cell_type": "markdown",
   "metadata": {},
   "source": [
    "#### Low Unique Columns"
   ]
  },
  {
   "cell_type": "code",
   "execution_count": 57,
   "metadata": {},
   "outputs": [
    {
     "data": {
      "text/plain": [
       "['BsmtFin Type 1',\n",
       " 'Garage Finish',\n",
       " 'Bsmt Qual',\n",
       " 'Foundation',\n",
       " 'Kitchen Qual',\n",
       " 'House Style',\n",
       " 'Heating QC',\n",
       " 'Garage Type',\n",
       " 'Mas Vnr Type',\n",
       " 'Exter Qual',\n",
       " 'Lot Shape']"
      ]
     },
     "execution_count": 57,
     "metadata": {},
     "output_type": "execute_result"
    }
   ],
   "source": [
    "# As we do not want to flood our subplot, \n",
    "# we filter out columns with unique value above 10\n",
    "low_unique_columns = focus[focus['unique'] < 10].index.tolist()\n",
    "low_unique_columns"
   ]
  },
  {
   "cell_type": "code",
   "execution_count": 58,
   "metadata": {
    "scrolled": true
   },
   "outputs": [
    {
     "data": {
      "image/png": "[encoded data removed]",
      "text/plain": [
       "<Figure size 1440x1440 with 12 Axes>"
      ]
     },
     "metadata": {},
     "output_type": "display_data"
    }
   ],
   "source": [
    "# Plot a subplot to analyse trend between unique variables and Sale Price\n",
    "fig, ax = plt.subplots(nrows=3, ncols=4, figsize=(20, 20), sharey=True)\n",
    "ax = ax.ravel()\n",
    "# Iterate through our low_unique_columns to create a subplot for each column\n",
    "for i in range(len(low_unique_columns)):\n",
    "    sns.barplot(x=low_unique_columns[i], y='SalePrice', data=train, ax=ax[i])\n",
    "plt.tight_layout(pad=0.5)"
   ]
  },
  {
   "cell_type": "markdown",
   "metadata": {},
   "source": [
    "#### Takeaways\n",
    "- At a glance, we noted that each unique value represents a different mean sales price\n",
    "- This is especially prevalent for Quality as Ex (Excellent) quality of the houses greatly increase the price of the house by an average of 200K against second best (Good) quality\n",
    "- Each House Style returns a different mean sales price\n",
    "- We have decided to one-hot encode these selected columns as each unique value impacts Sale Price in a different way with the difference between each quality 'level' almost amounting to 70-100K"
   ]
  },
  {
   "cell_type": "markdown",
   "metadata": {},
   "source": [
    "#### High Unique Columns"
   ]
  },
  {
   "cell_type": "markdown",
   "metadata": {},
   "source": [
    "As these columns contain many unique values, we avoid identifying each value one by one and instead, analyse if there varying values impact sale price in a different way."
   ]
  },
  {
   "cell_type": "code",
   "execution_count": 59,
   "metadata": {},
   "outputs": [
    {
     "data": {
      "text/plain": [
       "['Neighborhood', 'Exterior 2nd', 'Exterior 1st', 'MS SubClass']"
      ]
     },
     "execution_count": 59,
     "metadata": {},
     "output_type": "execute_result"
    }
   ],
   "source": [
    "# These are the 4 high unique columns that have\n",
    "# a top frequency ratio of below 65%\n",
    "high_unique_columns = focus[focus['unique'] >= 10].index.tolist()\n",
    "high_unique_columns"
   ]
  },
  {
   "cell_type": "code",
   "execution_count": 60,
   "metadata": {},
   "outputs": [
    {
     "data": {
      "image/png": "[encoded data removed]",
      "text/plain": [
       "<Figure size 432x288 with 1 Axes>"
      ]
     },
     "metadata": {},
     "output_type": "display_data"
    }
   ],
   "source": [
    "# Analyse the 27 unique values of 'Neighborhood' and see if there is a\n",
    "# trend and a large variance against median sale price\n",
    "ax = sns.barplot(x='Neighborhood', y='SalePrice', data=train, color='mediumseagreen')\n",
    "ax.axhline(train['SalePrice'].median(), color='crimson', linestyle='--')\n",
    "ax.set_xticks([])\n",
    "ax.set_title('All 27 Neighborhood vs Sale Price')\n",
    "ax.set_ylabel('Sale Price')\n",
    "ax.legend({'Median Sale Price':train['SalePrice'].median()});"
   ]
  },
  {
   "cell_type": "markdown",
   "metadata": {},
   "source": [
    "#### Takeaways\n",
    "- For Neighborhood, we can see that each unique value varies greatly from each other, and also the highest and lowest values are far from the Sale Price median by about 100K\n",
    "- We will use this assumption for the other 3 high unique columns as the Exterior column relates to quality which is a big factor in Sale Price determination and MS SubClass relates to the type of house"
   ]
  },
  {
   "cell_type": "code",
   "execution_count": 61,
   "metadata": {},
   "outputs": [
    {
     "data": {
      "image/png": "[encoded data removed]",
      "text/plain": [
       "<Figure size 432x288 with 1 Axes>"
      ]
     },
     "metadata": {},
     "output_type": "display_data"
    }
   ],
   "source": [
    "ax = sns.distplot(train['SalePrice'], bins=15)\n",
    "ax.set_xlabel(\"Sale Price ( ' 000 )\")\n",
    "xlabels = ['{:,.0f}'.format(x) for x in ax.get_xticks()/1000]\n",
    "ax.set_xticklabels(xlabels)\n",
    "ax.set_ylabel('Distribution')\n",
    "ax.set_title('Distribution of Sales Price')\n",
    "ax.axvline(train['SalePrice'].median(), color='crimson', linestyle='--')\n",
    "plt.legend({'Median':train['SalePrice'].median()});"
   ]
  },
  {
   "cell_type": "markdown",
   "metadata": {},
   "source": [
    "- Histogram distribution is a normal distribution with a positive skew\n",
    "- We can see that there are 3 unique values in our Neighborhood graph above 300K mean sales\n",
    "- Based on the histogram, sales price above 300K has a very low distribution, contributing to the assumption that Neighborhood is an important feature that affects sales price"
   ]
  },
  {
   "cell_type": "markdown",
   "metadata": {},
   "source": [
    "#### Adjustments passed\n",
    "We will select these categorical variables as our features and perform one-hot encoding to distinguish our Sale Price predictions"
   ]
  },
  {
   "cell_type": "code",
   "execution_count": 62,
   "metadata": {},
   "outputs": [
    {
     "data": {
      "text/plain": [
       "['Neighborhood',\n",
       " 'BsmtFin Type 1',\n",
       " 'Exterior 2nd',\n",
       " 'Exterior 1st',\n",
       " 'MS SubClass',\n",
       " 'Garage Finish',\n",
       " 'Bsmt Qual',\n",
       " 'Foundation',\n",
       " 'Kitchen Qual',\n",
       " 'House Style',\n",
       " 'Heating QC',\n",
       " 'Garage Type',\n",
       " 'Mas Vnr Type',\n",
       " 'Exter Qual',\n",
       " 'Lot Shape']"
      ]
     },
     "execution_count": 62,
     "metadata": {},
     "output_type": "execute_result"
    }
   ],
   "source": [
    "unique_columns = focus.index.tolist()\n",
    "unique_columns"
   ]
  },
  {
   "cell_type": "code",
   "execution_count": 63,
   "metadata": {},
   "outputs": [],
   "source": [
    "# Convert categorical variables into dummies\n",
    "train_dummies = pd.get_dummies(train[unique_columns], drop_first=True)"
   ]
  },
  {
   "cell_type": "code",
   "execution_count": 64,
   "metadata": {},
   "outputs": [],
   "source": [
    "# Add these columns into our training dataset\n",
    "train = pd.concat([train,train_dummies], axis=1)"
   ]
  },
  {
   "cell_type": "code",
   "execution_count": 65,
   "metadata": {
    "scrolled": true
   },
   "outputs": [],
   "source": [
    "# Apply the same for our test dataset\n",
    "test_dummies = pd.get_dummies(test[unique_columns], drop_first=True)"
   ]
  },
  {
   "cell_type": "code",
   "execution_count": 66,
   "metadata": {},
   "outputs": [],
   "source": [
    "test = pd.concat([test,test_dummies], axis=1)"
   ]
  },
  {
   "cell_type": "markdown",
   "metadata": {},
   "source": [
    "### Features and final cleaning\n",
    "#### Dropping columns for feature selection"
   ]
  },
  {
   "cell_type": "markdown",
   "metadata": {},
   "source": [
    "First we will drop the following columns to finalise our feature selection:\n",
    "\n",
    "**Numerical**\n",
    "1. Drop all **square feet** columns that was used in calculating Total Square Feet\n",
    "2. Drop all columns used in **computing age** and remodelling status\n",
    "\n",
    "**Categorical**\n",
    "3. Drop all columns that were originally used for our **one-hot encoding**\n",
    "\n",
    "**Redundant columns**\n",
    "4. Drop all columns that do not have an explicit relation to sale price. e.g. **PID** and **ID**\n",
    "5. SalePrice, as it will be used to compare against our predictions"
   ]
  },
  {
   "cell_type": "code",
   "execution_count": 67,
   "metadata": {},
   "outputs": [],
   "source": [
    "features = train.drop(columns=['Total Bsmt SF', \n",
    "                               'Gr Liv Area', \n",
    "                               '1st Flr SF', \n",
    "                               '2nd Flr SF', \n",
    "                               'Yr Sold', \n",
    "                               'Year Built', \n",
    "                               'Year Remod/Add',\n",
    "                               'Year Built', \n",
    "                               'MS SubClass', \n",
    "                               'Id', \n",
    "                               'SalePrice', \n",
    "                               'PID'])"
   ]
  },
  {
   "cell_type": "code",
   "execution_count": 68,
   "metadata": {},
   "outputs": [],
   "source": [
    "# Select only numerical data and one-hot encoding data\n",
    "# to remove unselected categorical variables\n",
    "features = train[[col for col in features._get_numeric_data().columns]]"
   ]
  },
  {
   "cell_type": "code",
   "execution_count": 69,
   "metadata": {},
   "outputs": [],
   "source": [
    "# Get the columns for our X Train/Test\n",
    "features = [col for col in features.columns]"
   ]
  },
  {
   "cell_type": "markdown",
   "metadata": {},
   "source": [
    "#### Analyse missing columns in test dataset\n",
    "As our test data requires us to have the same feature columns as our training dataset. We analyse which columns are missing (especially for one-hot encoded features) and create a new column"
   ]
  },
  {
   "cell_type": "code",
   "execution_count": 70,
   "metadata": {},
   "outputs": [
    {
     "name": "stdout",
     "output_type": "stream",
     "text": [
      "Train dataset is missing ['Exterior 2nd_Other', 'Exterior 2nd_PreCast', 'Exterior 1st_PreCast', 'Kitchen Qual_Po', 'Mas Vnr Type_CBlock']\n",
      "Test dataset is missing ['Neighborhood_GrnHill', 'Neighborhood_Landmrk', 'Exterior 2nd_Stone', 'Exterior 1st_CBlock', 'Exterior 1st_ImStucc', 'Exterior 1st_Stone', 'MS SubClass_150', 'Heating QC_Po']\n"
     ]
    }
   ],
   "source": [
    "# Apply our cross check columns function\n",
    "# to analyse if our test dataset has any missing columns\n",
    "column_cross_check(train_dummies, test_dummies)"
   ]
  },
  {
   "cell_type": "markdown",
   "metadata": {},
   "source": [
    "We will add new columns into our test dataset which is indicated from the 'Test dataset is missing' list above."
   ]
  },
  {
   "cell_type": "code",
   "execution_count": 71,
   "metadata": {},
   "outputs": [],
   "source": [
    "test_missing_cols = ['Neighborhood_GrnHill', 'Neighborhood_Landmrk', 'Exterior 2nd_Stone', 'Exterior 1st_CBlock', 'Exterior 1st_ImStucc', 'Exterior 1st_Stone', 'MS SubClass_150', 'Heating QC_Po']\n",
    "\n",
    "# Iterate through list to give new column value = 0\n",
    "for col in test_missing_cols:\n",
    "    test[col] = 0"
   ]
  },
  {
   "cell_type": "markdown",
   "metadata": {},
   "source": [
    "---"
   ]
  },
  {
   "cell_type": "markdown",
   "metadata": {},
   "source": [
    "## Train/Test Split and Model Validation"
   ]
  },
  {
   "cell_type": "markdown",
   "metadata": {},
   "source": [
    "### Train/Test Split"
   ]
  },
  {
   "cell_type": "markdown",
   "metadata": {},
   "source": [
    "Load our `X` and `y` variables with our selected features and SalePrice."
   ]
  },
  {
   "cell_type": "code",
   "execution_count": 72,
   "metadata": {},
   "outputs": [],
   "source": [
    "X = train[features]\n",
    "y = train['SalePrice']"
   ]
  },
  {
   "cell_type": "code",
   "execution_count": 73,
   "metadata": {
    "scrolled": true
   },
   "outputs": [
    {
     "data": {
      "text/plain": [
       "(2049, 149)"
      ]
     },
     "execution_count": 73,
     "metadata": {},
     "output_type": "execute_result"
    }
   ],
   "source": [
    "X.shape"
   ]
  },
  {
   "cell_type": "code",
   "execution_count": 74,
   "metadata": {},
   "outputs": [
    {
     "data": {
      "text/plain": [
       "(2049,)"
      ]
     },
     "execution_count": 74,
     "metadata": {},
     "output_type": "execute_result"
    }
   ],
   "source": [
    "y.shape"
   ]
  },
  {
   "cell_type": "markdown",
   "metadata": {},
   "source": [
    "Use the `train_test_split` function to split our `X` and `y` variables into a training set and a holdout set."
   ]
  },
  {
   "cell_type": "code",
   "execution_count": 75,
   "metadata": {},
   "outputs": [],
   "source": [
    "X_train, X_test, y_train, y_test = train_test_split(X,y, random_state=42)"
   ]
  },
  {
   "cell_type": "code",
   "execution_count": 76,
   "metadata": {},
   "outputs": [
    {
     "data": {
      "text/plain": [
       "(1536, 149)"
      ]
     },
     "execution_count": 76,
     "metadata": {},
     "output_type": "execute_result"
    }
   ],
   "source": [
    "X_train.shape"
   ]
  },
  {
   "cell_type": "markdown",
   "metadata": {},
   "source": [
    "Since we're using `Lasso` and `Ridge`, we'll be scaling our features using `StandardScaler` to `X_train` and use it to transform both `X_train` and `X_test`."
   ]
  },
  {
   "cell_type": "code",
   "execution_count": 77,
   "metadata": {},
   "outputs": [
    {
     "data": {
      "text/plain": [
       "StandardScaler(copy=True, with_mean=True, with_std=True)"
      ]
     },
     "execution_count": 77,
     "metadata": {},
     "output_type": "execute_result"
    }
   ],
   "source": [
    "ss = StandardScaler()\n",
    "ss.fit(X_train)"
   ]
  },
  {
   "cell_type": "code",
   "execution_count": 78,
   "metadata": {},
   "outputs": [],
   "source": [
    "X_train_sc = ss.transform(X_train)\n",
    "X_test_sc = ss.transform(X_test)"
   ]
  },
  {
   "cell_type": "markdown",
   "metadata": {},
   "source": [
    "### Instantiating our models\n",
    "Create instances for `LinearRegression`, `LassoCV` and `RidgeCV` and evaluate which model performs the best."
   ]
  },
  {
   "cell_type": "code",
   "execution_count": 79,
   "metadata": {},
   "outputs": [],
   "source": [
    "lr = LinearRegression()"
   ]
  },
  {
   "cell_type": "code",
   "execution_count": 80,
   "metadata": {},
   "outputs": [],
   "source": [
    "lasso = LassoCV(n_alphas=200, cv=5)"
   ]
  },
  {
   "cell_type": "code",
   "execution_count": 81,
   "metadata": {},
   "outputs": [],
   "source": [
    "ridge = RidgeCV(alphas = np.linspace(0.1, 10, 200))"
   ]
  },
  {
   "cell_type": "code",
   "execution_count": 82,
   "metadata": {},
   "outputs": [
    {
     "data": {
      "text/plain": [
       "-4.823337182314526e+22"
      ]
     },
     "execution_count": 82,
     "metadata": {},
     "output_type": "execute_result"
    }
   ],
   "source": [
    "lr_scores = cross_val_score(lr, X_train_sc, y_train, cv=5).mean()\n",
    "lr_scores"
   ]
  },
  {
   "cell_type": "code",
   "execution_count": 83,
   "metadata": {},
   "outputs": [
    {
     "data": {
      "text/plain": [
       "0.9048421004413946"
      ]
     },
     "execution_count": 83,
     "metadata": {},
     "output_type": "execute_result"
    }
   ],
   "source": [
    "lasso_scores = cross_val_score(lasso, X_train_sc, y_train, cv=5).mean()\n",
    "lasso_scores"
   ]
  },
  {
   "cell_type": "code",
   "execution_count": 84,
   "metadata": {},
   "outputs": [
    {
     "data": {
      "text/plain": [
       "0.9036128693725898"
      ]
     },
     "execution_count": 84,
     "metadata": {},
     "output_type": "execute_result"
    }
   ],
   "source": [
    "ridge_scores = cross_val_score(ridge, X_train_sc, y_train, cv=5).mean()\n",
    "ridge_scores"
   ]
  },
  {
   "cell_type": "markdown",
   "metadata": {},
   "source": [
    "#### Takeaways\n",
    "#### Score a.k.a, $R^2$\n",
    "\n",
    "#### $R^2 = \\frac{\\text{Explained variance}}{\\text{Total variance}} = 1 - \\frac{\\sum_{i=1}^n(y_i - \\hat{y}_i)^2}{\\sum_{i=1}^n(y_i - \\bar{y})^2}$\n",
    "\n",
    "- **Lasso** performs the best in our cross validation `score` at **90.48**\n",
    "- We will be using lasso regression to for our `X_test_sc` data as well as for our final test dataframe"
   ]
  },
  {
   "cell_type": "code",
   "execution_count": 85,
   "metadata": {},
   "outputs": [
    {
     "data": {
      "text/plain": [
       "LassoCV(alphas=None, copy_X=True, cv=5, eps=0.001, fit_intercept=True,\n",
       "        max_iter=1000, n_alphas=200, n_jobs=None, normalize=False,\n",
       "        positive=False, precompute='auto', random_state=None,\n",
       "        selection='cyclic', tol=0.0001, verbose=False)"
      ]
     },
     "execution_count": 85,
     "metadata": {},
     "output_type": "execute_result"
    }
   ],
   "source": [
    "lasso.fit(X_train_sc, y_train)"
   ]
  },
  {
   "cell_type": "code",
   "execution_count": 86,
   "metadata": {},
   "outputs": [
    {
     "data": {
      "text/plain": [
       "0.9248592841662483"
      ]
     },
     "execution_count": 86,
     "metadata": {},
     "output_type": "execute_result"
    }
   ],
   "source": [
    "# Our score for our training data\n",
    "lasso.score(X_train_sc, y_train)"
   ]
  },
  {
   "cell_type": "code",
   "execution_count": 87,
   "metadata": {},
   "outputs": [
    {
     "data": {
      "text/plain": [
       "0.9250322365939422"
      ]
     },
     "execution_count": 87,
     "metadata": {},
     "output_type": "execute_result"
    }
   ],
   "source": [
    "# Our score for our test data is close to our training data\n",
    "lasso.score(X_test_sc, y_test)"
   ]
  },
  {
   "cell_type": "markdown",
   "metadata": {},
   "source": [
    "As our `score` appears to be performing well for both our `X_train_sc` and `X_test_sc`, we would like to visualise our predictions against the actual SalePrice."
   ]
  },
  {
   "cell_type": "code",
   "execution_count": 88,
   "metadata": {},
   "outputs": [
    {
     "data": {
      "text/plain": [
       "array([115431.5457892 , 356128.20818672, 100584.72740822, 134441.38862381,\n",
       "       120778.84784805])"
      ]
     },
     "execution_count": 88,
     "metadata": {},
     "output_type": "execute_result"
    }
   ],
   "source": [
    "# Store our prediction results in an array\n",
    "predictions = lasso.predict(X_test_sc)\n",
    "predictions[:5]"
   ]
  },
  {
   "cell_type": "code",
   "execution_count": 89,
   "metadata": {},
   "outputs": [],
   "source": [
    "# Calculate our residuals/difference between the actual and our predictions\n",
    "residuals = y_test - predictions"
   ]
  },
  {
   "cell_type": "code",
   "execution_count": 90,
   "metadata": {
    "scrolled": false
   },
   "outputs": [
    {
     "data": {
      "image/png": "[encoded data removed]",
      "text/plain": [
       "<Figure size 432x288 with 1 Axes>"
      ]
     },
     "metadata": {},
     "output_type": "display_data"
    }
   ],
   "source": [
    "# Visualise the residuals\n",
    "plt.scatter(predictions,residuals, c='teal')\n",
    "plt.xlabel('Predictions')\n",
    "plt.ylabel('Residuals')\n",
    "plt.title('Difference between our actual and predictions');"
   ]
  },
  {
   "cell_type": "markdown",
   "metadata": {},
   "source": [
    "#### Takeaways\n",
    "- From the graph we can see that majority of our predictions within the **highest distributed area** for sales (150K - 200K) have generally **low residuals** which indicate that our predictions are close to the actual\n",
    "- There are a few points that residuals are above or below 100K for prices above 300K, these could have been **affected by special case variables** that increased or decreased the price greatly **despite** the **general factors** such as total square feet or overall quality\n",
    "- As the predictions with **high residuals are few**, we will **not adjust our model** as there could be a **risk of overfitting** when accommodating to these exceptional cases"
   ]
  },
  {
   "cell_type": "code",
   "execution_count": 91,
   "metadata": {},
   "outputs": [
    {
     "data": {
      "text/plain": [
       "21770.50272027222"
      ]
     },
     "execution_count": 91,
     "metadata": {},
     "output_type": "execute_result"
    }
   ],
   "source": [
    "# Calculate Root Mean Squared Error\n",
    "rmse = np.sqrt((residuals**2).mean())\n",
    "rmse"
   ]
  },
  {
   "cell_type": "markdown",
   "metadata": {},
   "source": [
    "#### Root Mean Squared Error (RMSE)\n",
    "#### $RMSE(\\mathbf{y},\\hat{\\mathbf{y}}) = \\sqrt{\\frac{1}{n}\\sum_{i=1}^n(y_i-\\hat{y}_i)^2}$\n",
    "\n",
    "RMSE also provides us with an idea on how our model is performing in general. In the above result, our average **difference between our predictions and actuals is around 20K**. This factors in the few 100K residual outliers as well so our general data could be below the RMSE."
   ]
  },
  {
   "cell_type": "markdown",
   "metadata": {},
   "source": [
    "### Observing our coefficients\n",
    "We will be using `coef_` for our `lasso` model to analyse the columns with significant impact on our sales price"
   ]
  },
  {
   "cell_type": "code",
   "execution_count": 92,
   "metadata": {},
   "outputs": [
    {
     "data": {
      "text/plain": [
       "array([ 1365.78267136,  5327.13014192, 12934.66581151,  6718.69978373,\n",
       "        3473.22211191])"
      ]
     },
     "execution_count": 92,
     "metadata": {},
     "output_type": "execute_result"
    }
   ],
   "source": [
    "# First 5 values of our coefficient arrays\n",
    "lasso.coef_[:5]"
   ]
  },
  {
   "cell_type": "code",
   "execution_count": 93,
   "metadata": {},
   "outputs": [],
   "source": [
    "# As we want to visualise the column coefficients to sale price,\n",
    "# we will convert the array into a dataframe to plot our graph\n",
    "\n",
    "def convert_array_to_dict(dict_name, array, column_names):\n",
    "    \"\"\"Input an empty dictionary, the coefficient array and the list of features\n",
    "    used for our lasso regression model to create a dictionary for our graph plot\"\"\"\n",
    "    index = 0\n",
    "    for value in column_names:\n",
    "        dict_name[value] = float(array[index])\n",
    "        index += 1"
   ]
  },
  {
   "cell_type": "code",
   "execution_count": 94,
   "metadata": {},
   "outputs": [],
   "source": [
    "# Run the function to populate numerical_dictionary\n",
    "numerical_dictionary = {}\n",
    "convert_array_to_dict(numerical_dictionary, lasso.coef_, features)"
   ]
  },
  {
   "cell_type": "code",
   "execution_count": 95,
   "metadata": {},
   "outputs": [],
   "source": [
    "# Arrangements for our graph\n",
    "# Remove 0 values\n",
    "filtered_numerical_dictionary = {key:val for key, val in numerical_dictionary.items() if val != 0}\n",
    "\n",
    "# Create a dataframe and transpose\n",
    "numerical_df = np.transpose(pd.DataFrame(filtered_numerical_dictionary, index=[0]).sort_values(by=0, axis=1, ascending=False))\n",
    "\n",
    "# Locate coefficient values above 10K and below -10K\n",
    "numerical_df = numerical_df.loc[(numerical_df[0] > 10000) | (numerical_df[0] < -10000)]"
   ]
  },
  {
   "cell_type": "code",
   "execution_count": 96,
   "metadata": {
    "scrolled": true
   },
   "outputs": [
    {
     "data": {
      "image/png": "[encoded data removed]",
      "text/plain": [
       "<Figure size 1080x720 with 1 Axes>"
      ]
     },
     "metadata": {},
     "output_type": "display_data"
    }
   ],
   "source": [
    "# Plot the graph\n",
    "ax = numerical_df.plot.bar(title = 'Numerical Coefficients for Lasso Model', legend=False, figsize=(15,10))\n",
    "ax.set_xlabel('Variables', fontsize=12)\n",
    "ax.set_ylabel('Effect on Sales Price');"
   ]
  },
  {
   "cell_type": "markdown",
   "metadata": {},
   "source": [
    "### Takeaways\n",
    "- Coefficients are in-line with our understanding that square feet, quality positively effects the sale price, and older age decreases the sale price"
   ]
  },
  {
   "cell_type": "markdown",
   "metadata": {},
   "source": [
    "---"
   ]
  },
  {
   "cell_type": "markdown",
   "metadata": {},
   "source": [
    "## Submission\n",
    "As our lasso model appears to score well in cross validation and against the `y_test` score, we will submit our predictions for the test data"
   ]
  },
  {
   "cell_type": "code",
   "execution_count": 97,
   "metadata": {},
   "outputs": [],
   "source": [
    "# Create an empty dataframe\n",
    "submission = pd.DataFrame()\n",
    "\n",
    "# Assign a column 'Id' with values identical to the test dataframe\n",
    "submission['Id'] = test.Id"
   ]
  },
  {
   "cell_type": "code",
   "execution_count": 98,
   "metadata": {},
   "outputs": [],
   "source": [
    "# Get our test dataframe with our feature columns\n",
    "# This is equivalent to 'X' in our training data\n",
    "feats = test[features]"
   ]
  },
  {
   "cell_type": "code",
   "execution_count": 99,
   "metadata": {},
   "outputs": [],
   "source": [
    "# Scale our 'X' data\n",
    "feats_sc = ss.fit_transform(feats)"
   ]
  },
  {
   "cell_type": "code",
   "execution_count": 100,
   "metadata": {},
   "outputs": [],
   "source": [
    "# Perform predictions of Sale Price based on our selected features\n",
    "# with our lasso regression model\n",
    "predictions = lasso.predict(feats_sc)"
   ]
  },
  {
   "cell_type": "code",
   "execution_count": 101,
   "metadata": {},
   "outputs": [
    {
     "data": {
      "text/html": [
       "<div>\n",
       "<style scoped>\n",
       "    .dataframe tbody tr th:only-of-type {\n",
       "        vertical-align: middle;\n",
       "    }\n",
       "\n",
       "    .dataframe tbody tr th {\n",
       "        vertical-align: top;\n",
       "    }\n",
       "\n",
       "    .dataframe thead th {\n",
       "        text-align: right;\n",
       "    }\n",
       "</style>\n",
       "<table border=\"1\" class=\"dataframe\">\n",
       "  <thead>\n",
       "    <tr style=\"text-align: right;\">\n",
       "      <th></th>\n",
       "      <th>Id</th>\n",
       "      <th>SalePrice</th>\n",
       "    </tr>\n",
       "  </thead>\n",
       "  <tbody>\n",
       "    <tr>\n",
       "      <td>0</td>\n",
       "      <td>2658</td>\n",
       "      <td>149603.104724</td>\n",
       "    </tr>\n",
       "    <tr>\n",
       "      <td>1</td>\n",
       "      <td>2718</td>\n",
       "      <td>152891.799410</td>\n",
       "    </tr>\n",
       "    <tr>\n",
       "      <td>2</td>\n",
       "      <td>2414</td>\n",
       "      <td>196935.405870</td>\n",
       "    </tr>\n",
       "    <tr>\n",
       "      <td>3</td>\n",
       "      <td>1989</td>\n",
       "      <td>107805.155576</td>\n",
       "    </tr>\n",
       "    <tr>\n",
       "      <td>4</td>\n",
       "      <td>625</td>\n",
       "      <td>172189.891921</td>\n",
       "    </tr>\n",
       "  </tbody>\n",
       "</table>\n",
       "</div>"
      ],
      "text/plain": [
       "     Id      SalePrice\n",
       "0  2658  149603.104724\n",
       "1  2718  152891.799410\n",
       "2  2414  196935.405870\n",
       "3  1989  107805.155576\n",
       "4   625  172189.891921"
      ]
     },
     "execution_count": 101,
     "metadata": {},
     "output_type": "execute_result"
    }
   ],
   "source": [
    "# Input our predictions into a new column for our submission\n",
    "# matching the sale price to the respective Id\n",
    "submission['SalePrice'] = predictions\n",
    "submission.head()"
   ]
  },
  {
   "cell_type": "code",
   "execution_count": 102,
   "metadata": {},
   "outputs": [
    {
     "data": {
      "text/plain": [
       "(879, 2)"
      ]
     },
     "execution_count": 102,
     "metadata": {},
     "output_type": "execute_result"
    }
   ],
   "source": [
    "# Ensure our dataframe has 879 rows in accordance to the\n",
    "# kaggle competition rules\n",
    "submission.shape"
   ]
  },
  {
   "cell_type": "code",
   "execution_count": 103,
   "metadata": {},
   "outputs": [],
   "source": [
    "# Save our dataframe into a csv file for submission\n",
    "submission.to_csv('submission.csv', index=False)"
   ]
  },
  {
   "cell_type": "markdown",
   "metadata": {},
   "source": [
    "---"
   ]
  },
  {
   "cell_type": "markdown",
   "metadata": {},
   "source": [
    "## Conclusion\n",
    "We noted that the overall quality, presence of facilities like garage, bathrooms and more space contributes to the increase of a sale price. Younger houses and remodelled houses tend to fetch a higher sale price as well.\n",
    "\n",
    "For non-numerical data, the quality of these facilities such as garage and kitchen quality greatly affect the price and the type of neighborhood is also a major determining factor.\n",
    "\n",
    "Our model based on lasso regression seems to be performing decent on both our train and test data with RMSE of 21K and 27K respectively. Further evaluation could be performed on the training dataset which may increase the RMSE for train but decrease for test which could result in a model with less variance for the test data and any house data our model needs to predict the price for in the future."
   ]
  }
 ],
 "metadata": {
  "kernelspec": {
   "display_name": "Python 3",
   "language": "python",
   "name": "python3"
  },
  "language_info": {
   "codemirror_mode": {
    "name": "ipython",
    "version": 3
   },
   "file_extension": ".py",
   "mimetype": "text/x-python",
   "name": "python",
   "nbconvert_exporter": "python",
   "pygments_lexer": "ipython3",
   "version": "3.7.4"
  }
 },
 "nbformat": 4,
 "nbformat_minor": 2
}
